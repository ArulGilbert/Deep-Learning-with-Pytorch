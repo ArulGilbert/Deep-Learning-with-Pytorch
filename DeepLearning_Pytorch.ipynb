{
  "nbformat": 4,
  "nbformat_minor": 0,
  "metadata": {
    "colab": {
      "provenance": [],
      "gpuType": "T4",
      "authorship_tag": "ABX9TyNT7alUcikAYixbGq7mi3Mt",
      "include_colab_link": true
    },
    "kernelspec": {
      "name": "python3",
      "display_name": "Python 3"
    },
    "language_info": {
      "name": "python"
    },
    "accelerator": "GPU"
  },
  "cells": [
    {
      "cell_type": "markdown",
      "metadata": {
        "id": "view-in-github",
        "colab_type": "text"
      },
      "source": [
        "<a href=\"https://colab.research.google.com/github/ArulGilbert/Deep-Learning-with-Pytorch/blob/main/DeepLearning_Pytorch.ipynb\" target=\"_parent\"><img src=\"https://colab.research.google.com/assets/colab-badge.svg\" alt=\"Open In Colab\"/></a>"
      ]
    },
    {
      "cell_type": "markdown",
      "source": [
        "# Deeplearning using Pytorch\n",
        "\n",
        "- First we'll look at Lists, numpy and Tensor(along with tensor operations)\n",
        "- Create a simple Neural Network using Iris Dataset\n",
        "- Work on a Convolution Neural Network using MNIST dataset"
      ],
      "metadata": {
        "id": "z_eI9vGAlihV"
      }
    },
    {
      "cell_type": "markdown",
      "source": [
        "## Tensors\n",
        "- A torch Tensor is a multi-dimensional matrix containing elements of a single data type.\n",
        "- Similar to Numpy Arrays, but full fun things that make them work better on GPUs\n",
        "- default data type of float32\n",
        "- More suitable for deep learning than a numpy array"
      ],
      "metadata": {
        "id": "t_y0Xl9VUcMU"
      }
    },
    {
      "cell_type": "code",
      "execution_count": null,
      "metadata": {
        "id": "setWRjTJI4M5"
      },
      "outputs": [],
      "source": [
        " import torch\n",
        " import numpy as np"
      ]
    },
    {
      "cell_type": "markdown",
      "source": [
        "## Lists"
      ],
      "metadata": {
        "id": "IM_QMrkDVHUd"
      }
    },
    {
      "cell_type": "code",
      "source": [
        "my_list  = [[1,2,3,4,5],[6,7,8,9,10]]\n",
        "my_list"
      ],
      "metadata": {
        "colab": {
          "base_uri": "https://localhost:8080/"
        },
        "id": "RnoHfobDVJTX",
        "outputId": "e2639a2a-b495-4f55-b58a-7f9d2d9d7151"
      },
      "execution_count": null,
      "outputs": [
        {
          "output_type": "execute_result",
          "data": {
            "text/plain": [
              "[[1, 2, 3, 4, 5], [6, 7, 8, 9, 10]]"
            ]
          },
          "metadata": {},
          "execution_count": 2
        }
      ]
    },
    {
      "cell_type": "markdown",
      "source": [
        "## Numpy Arrays"
      ],
      "metadata": {
        "id": "NaJX83h6VUZE"
      }
    },
    {
      "cell_type": "code",
      "source": [
        "np1 = np.random.rand(3,4)\n",
        "np1"
      ],
      "metadata": {
        "colab": {
          "base_uri": "https://localhost:8080/"
        },
        "id": "dfqEoA2GVTlG",
        "outputId": "453701d2-dc4d-440f-f915-d7cd50b9ba5d"
      },
      "execution_count": null,
      "outputs": [
        {
          "output_type": "execute_result",
          "data": {
            "text/plain": [
              "array([[0.17155732, 0.65707686, 0.07295952, 0.00083608],\n",
              "       [0.58311328, 0.61233365, 0.56710878, 0.4472358 ],\n",
              "       [0.6312331 , 0.26207127, 0.46788005, 0.69006777]])"
            ]
          },
          "metadata": {},
          "execution_count": 3
        }
      ]
    },
    {
      "cell_type": "code",
      "source": [
        "np1.dtype"
      ],
      "metadata": {
        "colab": {
          "base_uri": "https://localhost:8080/"
        },
        "id": "VAjJH4z6ViD3",
        "outputId": "6345f6f5-5867-4be5-e971-e9da16a1b7a3"
      },
      "execution_count": null,
      "outputs": [
        {
          "output_type": "execute_result",
          "data": {
            "text/plain": [
              "dtype('float64')"
            ]
          },
          "metadata": {},
          "execution_count": 4
        }
      ]
    },
    {
      "cell_type": "markdown",
      "source": [
        "## Tensors"
      ],
      "metadata": {
        "id": "4RwVtW85VqbR"
      }
    },
    {
      "cell_type": "code",
      "source": [
        "tensor_2d = torch.randn(3,4)\n",
        "tensor_2d"
      ],
      "metadata": {
        "colab": {
          "base_uri": "https://localhost:8080/"
        },
        "id": "B3j6GLyiVdbg",
        "outputId": "bef68469-894b-4726-ba57-ea2b490593fb"
      },
      "execution_count": null,
      "outputs": [
        {
          "output_type": "execute_result",
          "data": {
            "text/plain": [
              "tensor([[-0.5503,  0.8747,  0.1631, -0.0218],\n",
              "        [ 0.3507, -0.1909,  0.7268,  0.3448],\n",
              "        [-0.9576, -1.3546, -0.0861, -1.2124]])"
            ]
          },
          "metadata": {},
          "execution_count": 5
        }
      ]
    },
    {
      "cell_type": "code",
      "source": [
        "tensor_3d = torch.zeros(2,3,4)\n",
        "tensor_3d"
      ],
      "metadata": {
        "colab": {
          "base_uri": "https://localhost:8080/"
        },
        "id": "CQ6xYzppV6d1",
        "outputId": "3b13a9ac-9f73-46e2-877e-4994d49472c9"
      },
      "execution_count": null,
      "outputs": [
        {
          "output_type": "execute_result",
          "data": {
            "text/plain": [
              "tensor([[[0., 0., 0., 0.],\n",
              "         [0., 0., 0., 0.],\n",
              "         [0., 0., 0., 0.]],\n",
              "\n",
              "        [[0., 0., 0., 0.],\n",
              "         [0., 0., 0., 0.],\n",
              "         [0., 0., 0., 0.]]])"
            ]
          },
          "metadata": {},
          "execution_count": 6
        }
      ]
    },
    {
      "cell_type": "code",
      "source": [
        "## Create tensor out of numpy array\n",
        "my_tensor = torch.tensor(np1)\n",
        "my_tensor"
      ],
      "metadata": {
        "colab": {
          "base_uri": "https://localhost:8080/"
        },
        "id": "yQPgb27mWJc-",
        "outputId": "3a95deee-1fd0-46a1-9dfd-7779e896a7cc"
      },
      "execution_count": null,
      "outputs": [
        {
          "output_type": "execute_result",
          "data": {
            "text/plain": [
              "tensor([[0.1716, 0.6571, 0.0730, 0.0008],\n",
              "        [0.5831, 0.6123, 0.5671, 0.4472],\n",
              "        [0.6312, 0.2621, 0.4679, 0.6901]], dtype=torch.float64)"
            ]
          },
          "metadata": {},
          "execution_count": 7
        }
      ]
    },
    {
      "cell_type": "markdown",
      "source": [
        "# Tensor Operations"
      ],
      "metadata": {
        "id": "GC3qTiEXWy5e"
      }
    },
    {
      "cell_type": "code",
      "source": [
        "my_torch = torch.arange(10)\n",
        "my_torch"
      ],
      "metadata": {
        "colab": {
          "base_uri": "https://localhost:8080/"
        },
        "id": "-PcTGmr-WFH5",
        "outputId": "07fbf097-e7b5-477e-fbfc-a38e217437e3"
      },
      "execution_count": null,
      "outputs": [
        {
          "output_type": "execute_result",
          "data": {
            "text/plain": [
              "tensor([0, 1, 2, 3, 4, 5, 6, 7, 8, 9])"
            ]
          },
          "metadata": {},
          "execution_count": 8
        }
      ]
    },
    {
      "cell_type": "code",
      "source": [
        "# Reshape and View\n",
        "my_torch = my_torch.reshape(2,5)\n",
        "my_torch"
      ],
      "metadata": {
        "colab": {
          "base_uri": "https://localhost:8080/"
        },
        "id": "STctiXROX-dN",
        "outputId": "3767e8e1-6db3-4fa6-ccda-b432438a6c34"
      },
      "execution_count": null,
      "outputs": [
        {
          "output_type": "execute_result",
          "data": {
            "text/plain": [
              "tensor([[0, 1, 2, 3, 4],\n",
              "        [5, 6, 7, 8, 9]])"
            ]
          },
          "metadata": {},
          "execution_count": 9
        }
      ]
    },
    {
      "cell_type": "code",
      "source": [
        "# Reshape if we dont know the number of items using -1\n",
        "my_torch2 = torch.arange(10)\n",
        "my_torch2 = my_torch2.reshape(2,-1)\n",
        "my_torch2"
      ],
      "metadata": {
        "colab": {
          "base_uri": "https://localhost:8080/"
        },
        "id": "GiQBdjMoYbgd",
        "outputId": "b03d935d-b032-44a4-dd28-3a74037114e1"
      },
      "execution_count": null,
      "outputs": [
        {
          "output_type": "execute_result",
          "data": {
            "text/plain": [
              "tensor([[0, 1, 2, 3, 4],\n",
              "        [5, 6, 7, 8, 9]])"
            ]
          },
          "metadata": {},
          "execution_count": 10
        }
      ]
    },
    {
      "cell_type": "code",
      "source": [
        "my_torch3 = torch.arange(10).view(2,5)\n",
        "my_torch3"
      ],
      "metadata": {
        "colab": {
          "base_uri": "https://localhost:8080/"
        },
        "id": "Ps0DzZ-zY6gi",
        "outputId": "02e30710-39aa-4419-d7dd-5687a19cc639"
      },
      "execution_count": null,
      "outputs": [
        {
          "output_type": "execute_result",
          "data": {
            "text/plain": [
              "tensor([[0, 1, 2, 3, 4],\n",
              "        [5, 6, 7, 8, 9]])"
            ]
          },
          "metadata": {},
          "execution_count": 11
        }
      ]
    },
    {
      "cell_type": "code",
      "source": [
        "#slices\n",
        "my_torch4 = torch.arange(10)\n",
        "my_torch4[:3]"
      ],
      "metadata": {
        "colab": {
          "base_uri": "https://localhost:8080/"
        },
        "id": "y-cOYFeseFj9",
        "outputId": "eba7068f-e1de-451a-f5ca-278ba96dbb3c"
      },
      "execution_count": null,
      "outputs": [
        {
          "output_type": "execute_result",
          "data": {
            "text/plain": [
              "tensor([0, 1, 2])"
            ]
          },
          "metadata": {},
          "execution_count": 12
        }
      ]
    },
    {
      "cell_type": "code",
      "source": [
        "my_torch5=my_torch4.reshape(5,2)\n",
        "my_torch5[:,0]"
      ],
      "metadata": {
        "colab": {
          "base_uri": "https://localhost:8080/"
        },
        "id": "r6uaNI3ZewAD",
        "outputId": "4180517f-60a2-437d-e432-6093b55eaefd"
      },
      "execution_count": null,
      "outputs": [
        {
          "output_type": "execute_result",
          "data": {
            "text/plain": [
              "tensor([0, 2, 4, 6, 8])"
            ]
          },
          "metadata": {},
          "execution_count": 13
        }
      ]
    },
    {
      "cell_type": "code",
      "source": [
        "my_torch5[:,1:]"
      ],
      "metadata": {
        "colab": {
          "base_uri": "https://localhost:8080/"
        },
        "id": "p4trm0j2fCeh",
        "outputId": "c5be7dc5-2359-47b8-850f-d6c2fde845ef"
      },
      "execution_count": null,
      "outputs": [
        {
          "output_type": "execute_result",
          "data": {
            "text/plain": [
              "tensor([[1],\n",
              "        [3],\n",
              "        [5],\n",
              "        [7],\n",
              "        [9]])"
            ]
          },
          "metadata": {},
          "execution_count": 14
        }
      ]
    },
    {
      "cell_type": "markdown",
      "source": [
        "## Tensor Math Operations"
      ],
      "metadata": {
        "id": "MOZf63epfndo"
      }
    },
    {
      "cell_type": "code",
      "source": [
        "tensor_a=torch.tensor([1,2,3,4])\n",
        "tensor_b=torch.tensor([5,6,7,8])\n"
      ],
      "metadata": {
        "id": "euPWyhAhfkQF"
      },
      "execution_count": null,
      "outputs": []
    },
    {
      "cell_type": "code",
      "source": [
        "#Addition\n",
        "#tensor_a + tensor_b\n",
        "\n",
        "torch.add(tensor_a,tensor_b)"
      ],
      "metadata": {
        "colab": {
          "base_uri": "https://localhost:8080/"
        },
        "id": "rFn6V3wpLxSE",
        "outputId": "9534e954-db82-4529-805c-5ffe7362766e"
      },
      "execution_count": null,
      "outputs": [
        {
          "output_type": "execute_result",
          "data": {
            "text/plain": [
              "tensor([ 6,  8, 10, 12])"
            ]
          },
          "metadata": {},
          "execution_count": 17
        }
      ]
    },
    {
      "cell_type": "code",
      "source": [
        "#Subtraction\n",
        "torch.subtract(tensor_b,tensor_a)"
      ],
      "metadata": {
        "colab": {
          "base_uri": "https://localhost:8080/"
        },
        "id": "nZO1vLAVL0wt",
        "outputId": "86b70f36-1a07-4a27-e648-5669d41ecdcd"
      },
      "execution_count": null,
      "outputs": [
        {
          "output_type": "execute_result",
          "data": {
            "text/plain": [
              "tensor([4, 4, 4, 4])"
            ]
          },
          "metadata": {},
          "execution_count": 18
        }
      ]
    },
    {
      "cell_type": "code",
      "source": [
        "#multiplication\n",
        "torch.multiply(tensor_a,tensor_b)"
      ],
      "metadata": {
        "colab": {
          "base_uri": "https://localhost:8080/"
        },
        "id": "63ki-OSLMSLd",
        "outputId": "18af6a30-2454-4c9a-9e0a-c8b229bed0ad"
      },
      "execution_count": null,
      "outputs": [
        {
          "output_type": "execute_result",
          "data": {
            "text/plain": [
              "tensor([ 5, 12, 21, 32])"
            ]
          },
          "metadata": {},
          "execution_count": 19
        }
      ]
    },
    {
      "cell_type": "code",
      "source": [
        "#division\n",
        "torch.div(tensor_b,tensor_a)"
      ],
      "metadata": {
        "colab": {
          "base_uri": "https://localhost:8080/"
        },
        "id": "wyo6xywqMe6e",
        "outputId": "1fc3db1a-8d31-4070-8116-cc91806df04d"
      },
      "execution_count": null,
      "outputs": [
        {
          "output_type": "execute_result",
          "data": {
            "text/plain": [
              "tensor([5.0000, 3.0000, 2.3333, 2.0000])"
            ]
          },
          "metadata": {},
          "execution_count": 20
        }
      ]
    },
    {
      "cell_type": "code",
      "source": [
        "#Remainder\n",
        "torch.remainder(tensor_b,tensor_a)"
      ],
      "metadata": {
        "colab": {
          "base_uri": "https://localhost:8080/"
        },
        "id": "odNLa8niMj7m",
        "outputId": "9d4a3ceb-87f0-4458-a163-ccfc6b0b11db"
      },
      "execution_count": null,
      "outputs": [
        {
          "output_type": "execute_result",
          "data": {
            "text/plain": [
              "tensor([0, 0, 1, 0])"
            ]
          },
          "metadata": {},
          "execution_count": 22
        }
      ]
    },
    {
      "cell_type": "code",
      "source": [
        "#Exponent\n",
        "torch.pow(tensor_b,tensor_a)"
      ],
      "metadata": {
        "colab": {
          "base_uri": "https://localhost:8080/"
        },
        "id": "JDhe6JDXMrpP",
        "outputId": "81296bfe-397e-4bd0-fcd2-14ce3f061a9b"
      },
      "execution_count": null,
      "outputs": [
        {
          "output_type": "execute_result",
          "data": {
            "text/plain": [
              "tensor([   5,   36,  343, 4096])"
            ]
          },
          "metadata": {},
          "execution_count": 24
        }
      ]
    },
    {
      "cell_type": "code",
      "source": [
        "#Reassignment_\n",
        "#adding underscore after whatever_ will reassign the value\n",
        "tensor_a.add_(tensor_b)"
      ],
      "metadata": {
        "colab": {
          "base_uri": "https://localhost:8080/"
        },
        "id": "8G8EKZxLM1ST",
        "outputId": "0801adad-87d9-4d57-fab9-e1b36286efd8"
      },
      "execution_count": null,
      "outputs": [
        {
          "output_type": "execute_result",
          "data": {
            "text/plain": [
              "tensor([ 6,  8, 10, 12])"
            ]
          },
          "metadata": {},
          "execution_count": 26
        }
      ]
    },
    {
      "cell_type": "markdown",
      "source": [
        "# Simple Neural Network\n",
        "- we'll be using an iris dataset"
      ],
      "metadata": {
        "id": "nr_pwsEWNoJw"
      }
    },
    {
      "cell_type": "code",
      "source": [
        "import torch\n",
        "import torch.nn as nn\n",
        "import torch.nn.functional as F"
      ],
      "metadata": {
        "id": "P9VvqKF3NWk0"
      },
      "execution_count": 1,
      "outputs": []
    },
    {
      "cell_type": "code",
      "source": [
        "#create a model class that inherits nn.Module\n",
        "\n",
        "class Model(nn.Module):\n",
        "  #Input layer (4 feature of the flower) -->\n",
        "  #Hidden layer1(number o neurons) -->\n",
        "  #Hidden Layer2(number of neurons) -->\n",
        "  #output (3 classes of iris flowers)\n",
        "  def __init__(self, in_features=4, h1=8, h2=9, out_features=3):\n",
        "    super().__init__() # instantiate our nn.module\n",
        "    self.fc1 = nn.Linear(in_features, h1) #fc-->fully connected\n",
        "    self.fc2 = nn.Linear(h1,h2)\n",
        "    self.out = nn.Linear(h2, out_features)\n",
        "\n",
        "  def forward(self, x):\n",
        "    x = F.relu(self.fc1(x))\n",
        "    x = F.relu(self.fc2(x))\n",
        "    x = self.out(x)\n",
        "    return x\n"
      ],
      "metadata": {
        "id": "SqmEfyb3dzVd"
      },
      "execution_count": 2,
      "outputs": []
    },
    {
      "cell_type": "code",
      "source": [
        "# Pick a manual seed for randomization\n",
        "torch.manual_seed(41)\n",
        "\n",
        "#create an instance of model\n",
        "model = Model()"
      ],
      "metadata": {
        "id": "lYFyw1RhOMib"
      },
      "execution_count": 3,
      "outputs": []
    },
    {
      "cell_type": "code",
      "source": [
        "import pandas as pd\n",
        "import matplotlib.pyplot as plt\n",
        "%matplotlib inline\n"
      ],
      "metadata": {
        "id": "HV4jC1pNlgHa"
      },
      "execution_count": 4,
      "outputs": []
    },
    {
      "cell_type": "code",
      "source": [
        "url = 'https://gist.githubusercontent.com/netj/8836201/raw/6f9306ad21398ea43cba4f7d537619d0e07d5ae3/iris.csv'\n",
        "my_df = pd.read_csv(url)\n",
        "my_df.head()"
      ],
      "metadata": {
        "colab": {
          "base_uri": "https://localhost:8080/",
          "height": 206
        },
        "id": "S0yaiPtFPSF7",
        "outputId": "e494da69-a872-4281-e51e-3dd473e8f03f"
      },
      "execution_count": 5,
      "outputs": [
        {
          "output_type": "execute_result",
          "data": {
            "text/plain": [
              "   sepal.length  sepal.width  petal.length  petal.width variety\n",
              "0           5.1          3.5           1.4          0.2  Setosa\n",
              "1           4.9          3.0           1.4          0.2  Setosa\n",
              "2           4.7          3.2           1.3          0.2  Setosa\n",
              "3           4.6          3.1           1.5          0.2  Setosa\n",
              "4           5.0          3.6           1.4          0.2  Setosa"
            ],
            "text/html": [
              "\n",
              "  <div id=\"df-9503c6d0-053a-41c8-ab8f-4bbf6384ee6a\" class=\"colab-df-container\">\n",
              "    <div>\n",
              "<style scoped>\n",
              "    .dataframe tbody tr th:only-of-type {\n",
              "        vertical-align: middle;\n",
              "    }\n",
              "\n",
              "    .dataframe tbody tr th {\n",
              "        vertical-align: top;\n",
              "    }\n",
              "\n",
              "    .dataframe thead th {\n",
              "        text-align: right;\n",
              "    }\n",
              "</style>\n",
              "<table border=\"1\" class=\"dataframe\">\n",
              "  <thead>\n",
              "    <tr style=\"text-align: right;\">\n",
              "      <th></th>\n",
              "      <th>sepal.length</th>\n",
              "      <th>sepal.width</th>\n",
              "      <th>petal.length</th>\n",
              "      <th>petal.width</th>\n",
              "      <th>variety</th>\n",
              "    </tr>\n",
              "  </thead>\n",
              "  <tbody>\n",
              "    <tr>\n",
              "      <th>0</th>\n",
              "      <td>5.1</td>\n",
              "      <td>3.5</td>\n",
              "      <td>1.4</td>\n",
              "      <td>0.2</td>\n",
              "      <td>Setosa</td>\n",
              "    </tr>\n",
              "    <tr>\n",
              "      <th>1</th>\n",
              "      <td>4.9</td>\n",
              "      <td>3.0</td>\n",
              "      <td>1.4</td>\n",
              "      <td>0.2</td>\n",
              "      <td>Setosa</td>\n",
              "    </tr>\n",
              "    <tr>\n",
              "      <th>2</th>\n",
              "      <td>4.7</td>\n",
              "      <td>3.2</td>\n",
              "      <td>1.3</td>\n",
              "      <td>0.2</td>\n",
              "      <td>Setosa</td>\n",
              "    </tr>\n",
              "    <tr>\n",
              "      <th>3</th>\n",
              "      <td>4.6</td>\n",
              "      <td>3.1</td>\n",
              "      <td>1.5</td>\n",
              "      <td>0.2</td>\n",
              "      <td>Setosa</td>\n",
              "    </tr>\n",
              "    <tr>\n",
              "      <th>4</th>\n",
              "      <td>5.0</td>\n",
              "      <td>3.6</td>\n",
              "      <td>1.4</td>\n",
              "      <td>0.2</td>\n",
              "      <td>Setosa</td>\n",
              "    </tr>\n",
              "  </tbody>\n",
              "</table>\n",
              "</div>\n",
              "    <div class=\"colab-df-buttons\">\n",
              "\n",
              "  <div class=\"colab-df-container\">\n",
              "    <button class=\"colab-df-convert\" onclick=\"convertToInteractive('df-9503c6d0-053a-41c8-ab8f-4bbf6384ee6a')\"\n",
              "            title=\"Convert this dataframe to an interactive table.\"\n",
              "            style=\"display:none;\">\n",
              "\n",
              "  <svg xmlns=\"http://www.w3.org/2000/svg\" height=\"24px\" viewBox=\"0 -960 960 960\">\n",
              "    <path d=\"M120-120v-720h720v720H120Zm60-500h600v-160H180v160Zm220 220h160v-160H400v160Zm0 220h160v-160H400v160ZM180-400h160v-160H180v160Zm440 0h160v-160H620v160ZM180-180h160v-160H180v160Zm440 0h160v-160H620v160Z\"/>\n",
              "  </svg>\n",
              "    </button>\n",
              "\n",
              "  <style>\n",
              "    .colab-df-container {\n",
              "      display:flex;\n",
              "      gap: 12px;\n",
              "    }\n",
              "\n",
              "    .colab-df-convert {\n",
              "      background-color: #E8F0FE;\n",
              "      border: none;\n",
              "      border-radius: 50%;\n",
              "      cursor: pointer;\n",
              "      display: none;\n",
              "      fill: #1967D2;\n",
              "      height: 32px;\n",
              "      padding: 0 0 0 0;\n",
              "      width: 32px;\n",
              "    }\n",
              "\n",
              "    .colab-df-convert:hover {\n",
              "      background-color: #E2EBFA;\n",
              "      box-shadow: 0px 1px 2px rgba(60, 64, 67, 0.3), 0px 1px 3px 1px rgba(60, 64, 67, 0.15);\n",
              "      fill: #174EA6;\n",
              "    }\n",
              "\n",
              "    .colab-df-buttons div {\n",
              "      margin-bottom: 4px;\n",
              "    }\n",
              "\n",
              "    [theme=dark] .colab-df-convert {\n",
              "      background-color: #3B4455;\n",
              "      fill: #D2E3FC;\n",
              "    }\n",
              "\n",
              "    [theme=dark] .colab-df-convert:hover {\n",
              "      background-color: #434B5C;\n",
              "      box-shadow: 0px 1px 3px 1px rgba(0, 0, 0, 0.15);\n",
              "      filter: drop-shadow(0px 1px 2px rgba(0, 0, 0, 0.3));\n",
              "      fill: #FFFFFF;\n",
              "    }\n",
              "  </style>\n",
              "\n",
              "    <script>\n",
              "      const buttonEl =\n",
              "        document.querySelector('#df-9503c6d0-053a-41c8-ab8f-4bbf6384ee6a button.colab-df-convert');\n",
              "      buttonEl.style.display =\n",
              "        google.colab.kernel.accessAllowed ? 'block' : 'none';\n",
              "\n",
              "      async function convertToInteractive(key) {\n",
              "        const element = document.querySelector('#df-9503c6d0-053a-41c8-ab8f-4bbf6384ee6a');\n",
              "        const dataTable =\n",
              "          await google.colab.kernel.invokeFunction('convertToInteractive',\n",
              "                                                    [key], {});\n",
              "        if (!dataTable) return;\n",
              "\n",
              "        const docLinkHtml = 'Like what you see? Visit the ' +\n",
              "          '<a target=\"_blank\" href=https://colab.research.google.com/notebooks/data_table.ipynb>data table notebook</a>'\n",
              "          + ' to learn more about interactive tables.';\n",
              "        element.innerHTML = '';\n",
              "        dataTable['output_type'] = 'display_data';\n",
              "        await google.colab.output.renderOutput(dataTable, element);\n",
              "        const docLink = document.createElement('div');\n",
              "        docLink.innerHTML = docLinkHtml;\n",
              "        element.appendChild(docLink);\n",
              "      }\n",
              "    </script>\n",
              "  </div>\n",
              "\n",
              "\n",
              "<div id=\"df-e7e56c16-5577-4ac5-8f58-dbe96a827630\">\n",
              "  <button class=\"colab-df-quickchart\" onclick=\"quickchart('df-e7e56c16-5577-4ac5-8f58-dbe96a827630')\"\n",
              "            title=\"Suggest charts\"\n",
              "            style=\"display:none;\">\n",
              "\n",
              "<svg xmlns=\"http://www.w3.org/2000/svg\" height=\"24px\"viewBox=\"0 0 24 24\"\n",
              "     width=\"24px\">\n",
              "    <g>\n",
              "        <path d=\"M19 3H5c-1.1 0-2 .9-2 2v14c0 1.1.9 2 2 2h14c1.1 0 2-.9 2-2V5c0-1.1-.9-2-2-2zM9 17H7v-7h2v7zm4 0h-2V7h2v10zm4 0h-2v-4h2v4z\"/>\n",
              "    </g>\n",
              "</svg>\n",
              "  </button>\n",
              "\n",
              "<style>\n",
              "  .colab-df-quickchart {\n",
              "      --bg-color: #E8F0FE;\n",
              "      --fill-color: #1967D2;\n",
              "      --hover-bg-color: #E2EBFA;\n",
              "      --hover-fill-color: #174EA6;\n",
              "      --disabled-fill-color: #AAA;\n",
              "      --disabled-bg-color: #DDD;\n",
              "  }\n",
              "\n",
              "  [theme=dark] .colab-df-quickchart {\n",
              "      --bg-color: #3B4455;\n",
              "      --fill-color: #D2E3FC;\n",
              "      --hover-bg-color: #434B5C;\n",
              "      --hover-fill-color: #FFFFFF;\n",
              "      --disabled-bg-color: #3B4455;\n",
              "      --disabled-fill-color: #666;\n",
              "  }\n",
              "\n",
              "  .colab-df-quickchart {\n",
              "    background-color: var(--bg-color);\n",
              "    border: none;\n",
              "    border-radius: 50%;\n",
              "    cursor: pointer;\n",
              "    display: none;\n",
              "    fill: var(--fill-color);\n",
              "    height: 32px;\n",
              "    padding: 0;\n",
              "    width: 32px;\n",
              "  }\n",
              "\n",
              "  .colab-df-quickchart:hover {\n",
              "    background-color: var(--hover-bg-color);\n",
              "    box-shadow: 0 1px 2px rgba(60, 64, 67, 0.3), 0 1px 3px 1px rgba(60, 64, 67, 0.15);\n",
              "    fill: var(--button-hover-fill-color);\n",
              "  }\n",
              "\n",
              "  .colab-df-quickchart-complete:disabled,\n",
              "  .colab-df-quickchart-complete:disabled:hover {\n",
              "    background-color: var(--disabled-bg-color);\n",
              "    fill: var(--disabled-fill-color);\n",
              "    box-shadow: none;\n",
              "  }\n",
              "\n",
              "  .colab-df-spinner {\n",
              "    border: 2px solid var(--fill-color);\n",
              "    border-color: transparent;\n",
              "    border-bottom-color: var(--fill-color);\n",
              "    animation:\n",
              "      spin 1s steps(1) infinite;\n",
              "  }\n",
              "\n",
              "  @keyframes spin {\n",
              "    0% {\n",
              "      border-color: transparent;\n",
              "      border-bottom-color: var(--fill-color);\n",
              "      border-left-color: var(--fill-color);\n",
              "    }\n",
              "    20% {\n",
              "      border-color: transparent;\n",
              "      border-left-color: var(--fill-color);\n",
              "      border-top-color: var(--fill-color);\n",
              "    }\n",
              "    30% {\n",
              "      border-color: transparent;\n",
              "      border-left-color: var(--fill-color);\n",
              "      border-top-color: var(--fill-color);\n",
              "      border-right-color: var(--fill-color);\n",
              "    }\n",
              "    40% {\n",
              "      border-color: transparent;\n",
              "      border-right-color: var(--fill-color);\n",
              "      border-top-color: var(--fill-color);\n",
              "    }\n",
              "    60% {\n",
              "      border-color: transparent;\n",
              "      border-right-color: var(--fill-color);\n",
              "    }\n",
              "    80% {\n",
              "      border-color: transparent;\n",
              "      border-right-color: var(--fill-color);\n",
              "      border-bottom-color: var(--fill-color);\n",
              "    }\n",
              "    90% {\n",
              "      border-color: transparent;\n",
              "      border-bottom-color: var(--fill-color);\n",
              "    }\n",
              "  }\n",
              "</style>\n",
              "\n",
              "  <script>\n",
              "    async function quickchart(key) {\n",
              "      const quickchartButtonEl =\n",
              "        document.querySelector('#' + key + ' button');\n",
              "      quickchartButtonEl.disabled = true;  // To prevent multiple clicks.\n",
              "      quickchartButtonEl.classList.add('colab-df-spinner');\n",
              "      try {\n",
              "        const charts = await google.colab.kernel.invokeFunction(\n",
              "            'suggestCharts', [key], {});\n",
              "      } catch (error) {\n",
              "        console.error('Error during call to suggestCharts:', error);\n",
              "      }\n",
              "      quickchartButtonEl.classList.remove('colab-df-spinner');\n",
              "      quickchartButtonEl.classList.add('colab-df-quickchart-complete');\n",
              "    }\n",
              "    (() => {\n",
              "      let quickchartButtonEl =\n",
              "        document.querySelector('#df-e7e56c16-5577-4ac5-8f58-dbe96a827630 button');\n",
              "      quickchartButtonEl.style.display =\n",
              "        google.colab.kernel.accessAllowed ? 'block' : 'none';\n",
              "    })();\n",
              "  </script>\n",
              "</div>\n",
              "\n",
              "    </div>\n",
              "  </div>\n"
            ],
            "application/vnd.google.colaboratory.intrinsic+json": {
              "type": "dataframe",
              "variable_name": "my_df",
              "summary": "{\n  \"name\": \"my_df\",\n  \"rows\": 150,\n  \"fields\": [\n    {\n      \"column\": \"sepal.length\",\n      \"properties\": {\n        \"dtype\": \"number\",\n        \"std\": 0.828066127977863,\n        \"min\": 4.3,\n        \"max\": 7.9,\n        \"num_unique_values\": 35,\n        \"samples\": [\n          6.2,\n          4.5,\n          5.6\n        ],\n        \"semantic_type\": \"\",\n        \"description\": \"\"\n      }\n    },\n    {\n      \"column\": \"sepal.width\",\n      \"properties\": {\n        \"dtype\": \"number\",\n        \"std\": 0.4358662849366982,\n        \"min\": 2.0,\n        \"max\": 4.4,\n        \"num_unique_values\": 23,\n        \"samples\": [\n          2.3,\n          4.0,\n          3.5\n        ],\n        \"semantic_type\": \"\",\n        \"description\": \"\"\n      }\n    },\n    {\n      \"column\": \"petal.length\",\n      \"properties\": {\n        \"dtype\": \"number\",\n        \"std\": 1.7652982332594662,\n        \"min\": 1.0,\n        \"max\": 6.9,\n        \"num_unique_values\": 43,\n        \"samples\": [\n          6.7,\n          3.8,\n          3.7\n        ],\n        \"semantic_type\": \"\",\n        \"description\": \"\"\n      }\n    },\n    {\n      \"column\": \"petal.width\",\n      \"properties\": {\n        \"dtype\": \"number\",\n        \"std\": 0.7622376689603465,\n        \"min\": 0.1,\n        \"max\": 2.5,\n        \"num_unique_values\": 22,\n        \"samples\": [\n          0.2,\n          1.2,\n          1.3\n        ],\n        \"semantic_type\": \"\",\n        \"description\": \"\"\n      }\n    },\n    {\n      \"column\": \"variety\",\n      \"properties\": {\n        \"dtype\": \"category\",\n        \"num_unique_values\": 3,\n        \"samples\": [\n          \"Setosa\",\n          \"Versicolor\",\n          \"Virginica\"\n        ],\n        \"semantic_type\": \"\",\n        \"description\": \"\"\n      }\n    }\n  ]\n}"
            }
          },
          "metadata": {},
          "execution_count": 5
        }
      ]
    },
    {
      "cell_type": "code",
      "source": [
        "#Changed last columns from strings to integer\n",
        "my_df['variety'] = my_df['variety'].replace('Setosa', 0.0)\n",
        "my_df['variety'] = my_df['variety'].replace('Versicolor', 1.0)\n",
        "my_df['variety'] = my_df['variety'].replace('Virginica', 2.0)\n",
        "my_df"
      ],
      "metadata": {
        "colab": {
          "base_uri": "https://localhost:8080/",
          "height": 423
        },
        "id": "ajkedYscQLcc",
        "outputId": "6e62cb5c-c065-426c-9db1-2be84536e91f"
      },
      "execution_count": 6,
      "outputs": [
        {
          "output_type": "execute_result",
          "data": {
            "text/plain": [
              "     sepal.length  sepal.width  petal.length  petal.width  variety\n",
              "0             5.1          3.5           1.4          0.2      0.0\n",
              "1             4.9          3.0           1.4          0.2      0.0\n",
              "2             4.7          3.2           1.3          0.2      0.0\n",
              "3             4.6          3.1           1.5          0.2      0.0\n",
              "4             5.0          3.6           1.4          0.2      0.0\n",
              "..            ...          ...           ...          ...      ...\n",
              "145           6.7          3.0           5.2          2.3      2.0\n",
              "146           6.3          2.5           5.0          1.9      2.0\n",
              "147           6.5          3.0           5.2          2.0      2.0\n",
              "148           6.2          3.4           5.4          2.3      2.0\n",
              "149           5.9          3.0           5.1          1.8      2.0\n",
              "\n",
              "[150 rows x 5 columns]"
            ],
            "text/html": [
              "\n",
              "  <div id=\"df-0ab06e0d-2e9e-4096-89b9-c7d2560ae2b6\" class=\"colab-df-container\">\n",
              "    <div>\n",
              "<style scoped>\n",
              "    .dataframe tbody tr th:only-of-type {\n",
              "        vertical-align: middle;\n",
              "    }\n",
              "\n",
              "    .dataframe tbody tr th {\n",
              "        vertical-align: top;\n",
              "    }\n",
              "\n",
              "    .dataframe thead th {\n",
              "        text-align: right;\n",
              "    }\n",
              "</style>\n",
              "<table border=\"1\" class=\"dataframe\">\n",
              "  <thead>\n",
              "    <tr style=\"text-align: right;\">\n",
              "      <th></th>\n",
              "      <th>sepal.length</th>\n",
              "      <th>sepal.width</th>\n",
              "      <th>petal.length</th>\n",
              "      <th>petal.width</th>\n",
              "      <th>variety</th>\n",
              "    </tr>\n",
              "  </thead>\n",
              "  <tbody>\n",
              "    <tr>\n",
              "      <th>0</th>\n",
              "      <td>5.1</td>\n",
              "      <td>3.5</td>\n",
              "      <td>1.4</td>\n",
              "      <td>0.2</td>\n",
              "      <td>0.0</td>\n",
              "    </tr>\n",
              "    <tr>\n",
              "      <th>1</th>\n",
              "      <td>4.9</td>\n",
              "      <td>3.0</td>\n",
              "      <td>1.4</td>\n",
              "      <td>0.2</td>\n",
              "      <td>0.0</td>\n",
              "    </tr>\n",
              "    <tr>\n",
              "      <th>2</th>\n",
              "      <td>4.7</td>\n",
              "      <td>3.2</td>\n",
              "      <td>1.3</td>\n",
              "      <td>0.2</td>\n",
              "      <td>0.0</td>\n",
              "    </tr>\n",
              "    <tr>\n",
              "      <th>3</th>\n",
              "      <td>4.6</td>\n",
              "      <td>3.1</td>\n",
              "      <td>1.5</td>\n",
              "      <td>0.2</td>\n",
              "      <td>0.0</td>\n",
              "    </tr>\n",
              "    <tr>\n",
              "      <th>4</th>\n",
              "      <td>5.0</td>\n",
              "      <td>3.6</td>\n",
              "      <td>1.4</td>\n",
              "      <td>0.2</td>\n",
              "      <td>0.0</td>\n",
              "    </tr>\n",
              "    <tr>\n",
              "      <th>...</th>\n",
              "      <td>...</td>\n",
              "      <td>...</td>\n",
              "      <td>...</td>\n",
              "      <td>...</td>\n",
              "      <td>...</td>\n",
              "    </tr>\n",
              "    <tr>\n",
              "      <th>145</th>\n",
              "      <td>6.7</td>\n",
              "      <td>3.0</td>\n",
              "      <td>5.2</td>\n",
              "      <td>2.3</td>\n",
              "      <td>2.0</td>\n",
              "    </tr>\n",
              "    <tr>\n",
              "      <th>146</th>\n",
              "      <td>6.3</td>\n",
              "      <td>2.5</td>\n",
              "      <td>5.0</td>\n",
              "      <td>1.9</td>\n",
              "      <td>2.0</td>\n",
              "    </tr>\n",
              "    <tr>\n",
              "      <th>147</th>\n",
              "      <td>6.5</td>\n",
              "      <td>3.0</td>\n",
              "      <td>5.2</td>\n",
              "      <td>2.0</td>\n",
              "      <td>2.0</td>\n",
              "    </tr>\n",
              "    <tr>\n",
              "      <th>148</th>\n",
              "      <td>6.2</td>\n",
              "      <td>3.4</td>\n",
              "      <td>5.4</td>\n",
              "      <td>2.3</td>\n",
              "      <td>2.0</td>\n",
              "    </tr>\n",
              "    <tr>\n",
              "      <th>149</th>\n",
              "      <td>5.9</td>\n",
              "      <td>3.0</td>\n",
              "      <td>5.1</td>\n",
              "      <td>1.8</td>\n",
              "      <td>2.0</td>\n",
              "    </tr>\n",
              "  </tbody>\n",
              "</table>\n",
              "<p>150 rows × 5 columns</p>\n",
              "</div>\n",
              "    <div class=\"colab-df-buttons\">\n",
              "\n",
              "  <div class=\"colab-df-container\">\n",
              "    <button class=\"colab-df-convert\" onclick=\"convertToInteractive('df-0ab06e0d-2e9e-4096-89b9-c7d2560ae2b6')\"\n",
              "            title=\"Convert this dataframe to an interactive table.\"\n",
              "            style=\"display:none;\">\n",
              "\n",
              "  <svg xmlns=\"http://www.w3.org/2000/svg\" height=\"24px\" viewBox=\"0 -960 960 960\">\n",
              "    <path d=\"M120-120v-720h720v720H120Zm60-500h600v-160H180v160Zm220 220h160v-160H400v160Zm0 220h160v-160H400v160ZM180-400h160v-160H180v160Zm440 0h160v-160H620v160ZM180-180h160v-160H180v160Zm440 0h160v-160H620v160Z\"/>\n",
              "  </svg>\n",
              "    </button>\n",
              "\n",
              "  <style>\n",
              "    .colab-df-container {\n",
              "      display:flex;\n",
              "      gap: 12px;\n",
              "    }\n",
              "\n",
              "    .colab-df-convert {\n",
              "      background-color: #E8F0FE;\n",
              "      border: none;\n",
              "      border-radius: 50%;\n",
              "      cursor: pointer;\n",
              "      display: none;\n",
              "      fill: #1967D2;\n",
              "      height: 32px;\n",
              "      padding: 0 0 0 0;\n",
              "      width: 32px;\n",
              "    }\n",
              "\n",
              "    .colab-df-convert:hover {\n",
              "      background-color: #E2EBFA;\n",
              "      box-shadow: 0px 1px 2px rgba(60, 64, 67, 0.3), 0px 1px 3px 1px rgba(60, 64, 67, 0.15);\n",
              "      fill: #174EA6;\n",
              "    }\n",
              "\n",
              "    .colab-df-buttons div {\n",
              "      margin-bottom: 4px;\n",
              "    }\n",
              "\n",
              "    [theme=dark] .colab-df-convert {\n",
              "      background-color: #3B4455;\n",
              "      fill: #D2E3FC;\n",
              "    }\n",
              "\n",
              "    [theme=dark] .colab-df-convert:hover {\n",
              "      background-color: #434B5C;\n",
              "      box-shadow: 0px 1px 3px 1px rgba(0, 0, 0, 0.15);\n",
              "      filter: drop-shadow(0px 1px 2px rgba(0, 0, 0, 0.3));\n",
              "      fill: #FFFFFF;\n",
              "    }\n",
              "  </style>\n",
              "\n",
              "    <script>\n",
              "      const buttonEl =\n",
              "        document.querySelector('#df-0ab06e0d-2e9e-4096-89b9-c7d2560ae2b6 button.colab-df-convert');\n",
              "      buttonEl.style.display =\n",
              "        google.colab.kernel.accessAllowed ? 'block' : 'none';\n",
              "\n",
              "      async function convertToInteractive(key) {\n",
              "        const element = document.querySelector('#df-0ab06e0d-2e9e-4096-89b9-c7d2560ae2b6');\n",
              "        const dataTable =\n",
              "          await google.colab.kernel.invokeFunction('convertToInteractive',\n",
              "                                                    [key], {});\n",
              "        if (!dataTable) return;\n",
              "\n",
              "        const docLinkHtml = 'Like what you see? Visit the ' +\n",
              "          '<a target=\"_blank\" href=https://colab.research.google.com/notebooks/data_table.ipynb>data table notebook</a>'\n",
              "          + ' to learn more about interactive tables.';\n",
              "        element.innerHTML = '';\n",
              "        dataTable['output_type'] = 'display_data';\n",
              "        await google.colab.output.renderOutput(dataTable, element);\n",
              "        const docLink = document.createElement('div');\n",
              "        docLink.innerHTML = docLinkHtml;\n",
              "        element.appendChild(docLink);\n",
              "      }\n",
              "    </script>\n",
              "  </div>\n",
              "\n",
              "\n",
              "<div id=\"df-cbce3718-e0bb-487c-bede-155a202e639d\">\n",
              "  <button class=\"colab-df-quickchart\" onclick=\"quickchart('df-cbce3718-e0bb-487c-bede-155a202e639d')\"\n",
              "            title=\"Suggest charts\"\n",
              "            style=\"display:none;\">\n",
              "\n",
              "<svg xmlns=\"http://www.w3.org/2000/svg\" height=\"24px\"viewBox=\"0 0 24 24\"\n",
              "     width=\"24px\">\n",
              "    <g>\n",
              "        <path d=\"M19 3H5c-1.1 0-2 .9-2 2v14c0 1.1.9 2 2 2h14c1.1 0 2-.9 2-2V5c0-1.1-.9-2-2-2zM9 17H7v-7h2v7zm4 0h-2V7h2v10zm4 0h-2v-4h2v4z\"/>\n",
              "    </g>\n",
              "</svg>\n",
              "  </button>\n",
              "\n",
              "<style>\n",
              "  .colab-df-quickchart {\n",
              "      --bg-color: #E8F0FE;\n",
              "      --fill-color: #1967D2;\n",
              "      --hover-bg-color: #E2EBFA;\n",
              "      --hover-fill-color: #174EA6;\n",
              "      --disabled-fill-color: #AAA;\n",
              "      --disabled-bg-color: #DDD;\n",
              "  }\n",
              "\n",
              "  [theme=dark] .colab-df-quickchart {\n",
              "      --bg-color: #3B4455;\n",
              "      --fill-color: #D2E3FC;\n",
              "      --hover-bg-color: #434B5C;\n",
              "      --hover-fill-color: #FFFFFF;\n",
              "      --disabled-bg-color: #3B4455;\n",
              "      --disabled-fill-color: #666;\n",
              "  }\n",
              "\n",
              "  .colab-df-quickchart {\n",
              "    background-color: var(--bg-color);\n",
              "    border: none;\n",
              "    border-radius: 50%;\n",
              "    cursor: pointer;\n",
              "    display: none;\n",
              "    fill: var(--fill-color);\n",
              "    height: 32px;\n",
              "    padding: 0;\n",
              "    width: 32px;\n",
              "  }\n",
              "\n",
              "  .colab-df-quickchart:hover {\n",
              "    background-color: var(--hover-bg-color);\n",
              "    box-shadow: 0 1px 2px rgba(60, 64, 67, 0.3), 0 1px 3px 1px rgba(60, 64, 67, 0.15);\n",
              "    fill: var(--button-hover-fill-color);\n",
              "  }\n",
              "\n",
              "  .colab-df-quickchart-complete:disabled,\n",
              "  .colab-df-quickchart-complete:disabled:hover {\n",
              "    background-color: var(--disabled-bg-color);\n",
              "    fill: var(--disabled-fill-color);\n",
              "    box-shadow: none;\n",
              "  }\n",
              "\n",
              "  .colab-df-spinner {\n",
              "    border: 2px solid var(--fill-color);\n",
              "    border-color: transparent;\n",
              "    border-bottom-color: var(--fill-color);\n",
              "    animation:\n",
              "      spin 1s steps(1) infinite;\n",
              "  }\n",
              "\n",
              "  @keyframes spin {\n",
              "    0% {\n",
              "      border-color: transparent;\n",
              "      border-bottom-color: var(--fill-color);\n",
              "      border-left-color: var(--fill-color);\n",
              "    }\n",
              "    20% {\n",
              "      border-color: transparent;\n",
              "      border-left-color: var(--fill-color);\n",
              "      border-top-color: var(--fill-color);\n",
              "    }\n",
              "    30% {\n",
              "      border-color: transparent;\n",
              "      border-left-color: var(--fill-color);\n",
              "      border-top-color: var(--fill-color);\n",
              "      border-right-color: var(--fill-color);\n",
              "    }\n",
              "    40% {\n",
              "      border-color: transparent;\n",
              "      border-right-color: var(--fill-color);\n",
              "      border-top-color: var(--fill-color);\n",
              "    }\n",
              "    60% {\n",
              "      border-color: transparent;\n",
              "      border-right-color: var(--fill-color);\n",
              "    }\n",
              "    80% {\n",
              "      border-color: transparent;\n",
              "      border-right-color: var(--fill-color);\n",
              "      border-bottom-color: var(--fill-color);\n",
              "    }\n",
              "    90% {\n",
              "      border-color: transparent;\n",
              "      border-bottom-color: var(--fill-color);\n",
              "    }\n",
              "  }\n",
              "</style>\n",
              "\n",
              "  <script>\n",
              "    async function quickchart(key) {\n",
              "      const quickchartButtonEl =\n",
              "        document.querySelector('#' + key + ' button');\n",
              "      quickchartButtonEl.disabled = true;  // To prevent multiple clicks.\n",
              "      quickchartButtonEl.classList.add('colab-df-spinner');\n",
              "      try {\n",
              "        const charts = await google.colab.kernel.invokeFunction(\n",
              "            'suggestCharts', [key], {});\n",
              "      } catch (error) {\n",
              "        console.error('Error during call to suggestCharts:', error);\n",
              "      }\n",
              "      quickchartButtonEl.classList.remove('colab-df-spinner');\n",
              "      quickchartButtonEl.classList.add('colab-df-quickchart-complete');\n",
              "    }\n",
              "    (() => {\n",
              "      let quickchartButtonEl =\n",
              "        document.querySelector('#df-cbce3718-e0bb-487c-bede-155a202e639d button');\n",
              "      quickchartButtonEl.style.display =\n",
              "        google.colab.kernel.accessAllowed ? 'block' : 'none';\n",
              "    })();\n",
              "  </script>\n",
              "</div>\n",
              "\n",
              "  <div id=\"id_4fce85aa-863d-4e36-add1-89e710fc4347\">\n",
              "    <style>\n",
              "      .colab-df-generate {\n",
              "        background-color: #E8F0FE;\n",
              "        border: none;\n",
              "        border-radius: 50%;\n",
              "        cursor: pointer;\n",
              "        display: none;\n",
              "        fill: #1967D2;\n",
              "        height: 32px;\n",
              "        padding: 0 0 0 0;\n",
              "        width: 32px;\n",
              "      }\n",
              "\n",
              "      .colab-df-generate:hover {\n",
              "        background-color: #E2EBFA;\n",
              "        box-shadow: 0px 1px 2px rgba(60, 64, 67, 0.3), 0px 1px 3px 1px rgba(60, 64, 67, 0.15);\n",
              "        fill: #174EA6;\n",
              "      }\n",
              "\n",
              "      [theme=dark] .colab-df-generate {\n",
              "        background-color: #3B4455;\n",
              "        fill: #D2E3FC;\n",
              "      }\n",
              "\n",
              "      [theme=dark] .colab-df-generate:hover {\n",
              "        background-color: #434B5C;\n",
              "        box-shadow: 0px 1px 3px 1px rgba(0, 0, 0, 0.15);\n",
              "        filter: drop-shadow(0px 1px 2px rgba(0, 0, 0, 0.3));\n",
              "        fill: #FFFFFF;\n",
              "      }\n",
              "    </style>\n",
              "    <button class=\"colab-df-generate\" onclick=\"generateWithVariable('my_df')\"\n",
              "            title=\"Generate code using this dataframe.\"\n",
              "            style=\"display:none;\">\n",
              "\n",
              "  <svg xmlns=\"http://www.w3.org/2000/svg\" height=\"24px\"viewBox=\"0 0 24 24\"\n",
              "       width=\"24px\">\n",
              "    <path d=\"M7,19H8.4L18.45,9,17,7.55,7,17.6ZM5,21V16.75L18.45,3.32a2,2,0,0,1,2.83,0l1.4,1.43a1.91,1.91,0,0,1,.58,1.4,1.91,1.91,0,0,1-.58,1.4L9.25,21ZM18.45,9,17,7.55Zm-12,3A5.31,5.31,0,0,0,4.9,8.1,5.31,5.31,0,0,0,1,6.5,5.31,5.31,0,0,0,4.9,4.9,5.31,5.31,0,0,0,6.5,1,5.31,5.31,0,0,0,8.1,4.9,5.31,5.31,0,0,0,12,6.5,5.46,5.46,0,0,0,6.5,12Z\"/>\n",
              "  </svg>\n",
              "    </button>\n",
              "    <script>\n",
              "      (() => {\n",
              "      const buttonEl =\n",
              "        document.querySelector('#id_4fce85aa-863d-4e36-add1-89e710fc4347 button.colab-df-generate');\n",
              "      buttonEl.style.display =\n",
              "        google.colab.kernel.accessAllowed ? 'block' : 'none';\n",
              "\n",
              "      buttonEl.onclick = () => {\n",
              "        google.colab.notebook.generateWithVariable('my_df');\n",
              "      }\n",
              "      })();\n",
              "    </script>\n",
              "  </div>\n",
              "\n",
              "    </div>\n",
              "  </div>\n"
            ],
            "application/vnd.google.colaboratory.intrinsic+json": {
              "type": "dataframe",
              "variable_name": "my_df",
              "summary": "{\n  \"name\": \"my_df\",\n  \"rows\": 150,\n  \"fields\": [\n    {\n      \"column\": \"sepal.length\",\n      \"properties\": {\n        \"dtype\": \"number\",\n        \"std\": 0.828066127977863,\n        \"min\": 4.3,\n        \"max\": 7.9,\n        \"num_unique_values\": 35,\n        \"samples\": [\n          6.2,\n          4.5,\n          5.6\n        ],\n        \"semantic_type\": \"\",\n        \"description\": \"\"\n      }\n    },\n    {\n      \"column\": \"sepal.width\",\n      \"properties\": {\n        \"dtype\": \"number\",\n        \"std\": 0.4358662849366982,\n        \"min\": 2.0,\n        \"max\": 4.4,\n        \"num_unique_values\": 23,\n        \"samples\": [\n          2.3,\n          4.0,\n          3.5\n        ],\n        \"semantic_type\": \"\",\n        \"description\": \"\"\n      }\n    },\n    {\n      \"column\": \"petal.length\",\n      \"properties\": {\n        \"dtype\": \"number\",\n        \"std\": 1.7652982332594662,\n        \"min\": 1.0,\n        \"max\": 6.9,\n        \"num_unique_values\": 43,\n        \"samples\": [\n          6.7,\n          3.8,\n          3.7\n        ],\n        \"semantic_type\": \"\",\n        \"description\": \"\"\n      }\n    },\n    {\n      \"column\": \"petal.width\",\n      \"properties\": {\n        \"dtype\": \"number\",\n        \"std\": 0.7622376689603465,\n        \"min\": 0.1,\n        \"max\": 2.5,\n        \"num_unique_values\": 22,\n        \"samples\": [\n          0.2,\n          1.2,\n          1.3\n        ],\n        \"semantic_type\": \"\",\n        \"description\": \"\"\n      }\n    },\n    {\n      \"column\": \"variety\",\n      \"properties\": {\n        \"dtype\": \"number\",\n        \"std\": 0.8192319205190405,\n        \"min\": 0.0,\n        \"max\": 2.0,\n        \"num_unique_values\": 3,\n        \"samples\": [\n          0.0,\n          1.0,\n          2.0\n        ],\n        \"semantic_type\": \"\",\n        \"description\": \"\"\n      }\n    }\n  ]\n}"
            }
          },
          "metadata": {},
          "execution_count": 6
        }
      ]
    },
    {
      "cell_type": "code",
      "source": [
        "#Train test Split!\n",
        "X = my_df.drop('variety', axis =1)\n",
        "y=my_df['variety']"
      ],
      "metadata": {
        "id": "SRU_glOVQtWy"
      },
      "execution_count": 7,
      "outputs": []
    },
    {
      "cell_type": "code",
      "source": [
        "#Convert these to numpy arrays\n",
        "X = X.values\n",
        "y = y.values\n",
        "X"
      ],
      "metadata": {
        "colab": {
          "base_uri": "https://localhost:8080/"
        },
        "id": "C7Wym_IaRMC6",
        "outputId": "2d64a082-1210-4ac4-fbc0-0d327250cf6c"
      },
      "execution_count": 8,
      "outputs": [
        {
          "output_type": "execute_result",
          "data": {
            "text/plain": [
              "array([[5.1, 3.5, 1.4, 0.2],\n",
              "       [4.9, 3. , 1.4, 0.2],\n",
              "       [4.7, 3.2, 1.3, 0.2],\n",
              "       [4.6, 3.1, 1.5, 0.2],\n",
              "       [5. , 3.6, 1.4, 0.2],\n",
              "       [5.4, 3.9, 1.7, 0.4],\n",
              "       [4.6, 3.4, 1.4, 0.3],\n",
              "       [5. , 3.4, 1.5, 0.2],\n",
              "       [4.4, 2.9, 1.4, 0.2],\n",
              "       [4.9, 3.1, 1.5, 0.1],\n",
              "       [5.4, 3.7, 1.5, 0.2],\n",
              "       [4.8, 3.4, 1.6, 0.2],\n",
              "       [4.8, 3. , 1.4, 0.1],\n",
              "       [4.3, 3. , 1.1, 0.1],\n",
              "       [5.8, 4. , 1.2, 0.2],\n",
              "       [5.7, 4.4, 1.5, 0.4],\n",
              "       [5.4, 3.9, 1.3, 0.4],\n",
              "       [5.1, 3.5, 1.4, 0.3],\n",
              "       [5.7, 3.8, 1.7, 0.3],\n",
              "       [5.1, 3.8, 1.5, 0.3],\n",
              "       [5.4, 3.4, 1.7, 0.2],\n",
              "       [5.1, 3.7, 1.5, 0.4],\n",
              "       [4.6, 3.6, 1. , 0.2],\n",
              "       [5.1, 3.3, 1.7, 0.5],\n",
              "       [4.8, 3.4, 1.9, 0.2],\n",
              "       [5. , 3. , 1.6, 0.2],\n",
              "       [5. , 3.4, 1.6, 0.4],\n",
              "       [5.2, 3.5, 1.5, 0.2],\n",
              "       [5.2, 3.4, 1.4, 0.2],\n",
              "       [4.7, 3.2, 1.6, 0.2],\n",
              "       [4.8, 3.1, 1.6, 0.2],\n",
              "       [5.4, 3.4, 1.5, 0.4],\n",
              "       [5.2, 4.1, 1.5, 0.1],\n",
              "       [5.5, 4.2, 1.4, 0.2],\n",
              "       [4.9, 3.1, 1.5, 0.2],\n",
              "       [5. , 3.2, 1.2, 0.2],\n",
              "       [5.5, 3.5, 1.3, 0.2],\n",
              "       [4.9, 3.6, 1.4, 0.1],\n",
              "       [4.4, 3. , 1.3, 0.2],\n",
              "       [5.1, 3.4, 1.5, 0.2],\n",
              "       [5. , 3.5, 1.3, 0.3],\n",
              "       [4.5, 2.3, 1.3, 0.3],\n",
              "       [4.4, 3.2, 1.3, 0.2],\n",
              "       [5. , 3.5, 1.6, 0.6],\n",
              "       [5.1, 3.8, 1.9, 0.4],\n",
              "       [4.8, 3. , 1.4, 0.3],\n",
              "       [5.1, 3.8, 1.6, 0.2],\n",
              "       [4.6, 3.2, 1.4, 0.2],\n",
              "       [5.3, 3.7, 1.5, 0.2],\n",
              "       [5. , 3.3, 1.4, 0.2],\n",
              "       [7. , 3.2, 4.7, 1.4],\n",
              "       [6.4, 3.2, 4.5, 1.5],\n",
              "       [6.9, 3.1, 4.9, 1.5],\n",
              "       [5.5, 2.3, 4. , 1.3],\n",
              "       [6.5, 2.8, 4.6, 1.5],\n",
              "       [5.7, 2.8, 4.5, 1.3],\n",
              "       [6.3, 3.3, 4.7, 1.6],\n",
              "       [4.9, 2.4, 3.3, 1. ],\n",
              "       [6.6, 2.9, 4.6, 1.3],\n",
              "       [5.2, 2.7, 3.9, 1.4],\n",
              "       [5. , 2. , 3.5, 1. ],\n",
              "       [5.9, 3. , 4.2, 1.5],\n",
              "       [6. , 2.2, 4. , 1. ],\n",
              "       [6.1, 2.9, 4.7, 1.4],\n",
              "       [5.6, 2.9, 3.6, 1.3],\n",
              "       [6.7, 3.1, 4.4, 1.4],\n",
              "       [5.6, 3. , 4.5, 1.5],\n",
              "       [5.8, 2.7, 4.1, 1. ],\n",
              "       [6.2, 2.2, 4.5, 1.5],\n",
              "       [5.6, 2.5, 3.9, 1.1],\n",
              "       [5.9, 3.2, 4.8, 1.8],\n",
              "       [6.1, 2.8, 4. , 1.3],\n",
              "       [6.3, 2.5, 4.9, 1.5],\n",
              "       [6.1, 2.8, 4.7, 1.2],\n",
              "       [6.4, 2.9, 4.3, 1.3],\n",
              "       [6.6, 3. , 4.4, 1.4],\n",
              "       [6.8, 2.8, 4.8, 1.4],\n",
              "       [6.7, 3. , 5. , 1.7],\n",
              "       [6. , 2.9, 4.5, 1.5],\n",
              "       [5.7, 2.6, 3.5, 1. ],\n",
              "       [5.5, 2.4, 3.8, 1.1],\n",
              "       [5.5, 2.4, 3.7, 1. ],\n",
              "       [5.8, 2.7, 3.9, 1.2],\n",
              "       [6. , 2.7, 5.1, 1.6],\n",
              "       [5.4, 3. , 4.5, 1.5],\n",
              "       [6. , 3.4, 4.5, 1.6],\n",
              "       [6.7, 3.1, 4.7, 1.5],\n",
              "       [6.3, 2.3, 4.4, 1.3],\n",
              "       [5.6, 3. , 4.1, 1.3],\n",
              "       [5.5, 2.5, 4. , 1.3],\n",
              "       [5.5, 2.6, 4.4, 1.2],\n",
              "       [6.1, 3. , 4.6, 1.4],\n",
              "       [5.8, 2.6, 4. , 1.2],\n",
              "       [5. , 2.3, 3.3, 1. ],\n",
              "       [5.6, 2.7, 4.2, 1.3],\n",
              "       [5.7, 3. , 4.2, 1.2],\n",
              "       [5.7, 2.9, 4.2, 1.3],\n",
              "       [6.2, 2.9, 4.3, 1.3],\n",
              "       [5.1, 2.5, 3. , 1.1],\n",
              "       [5.7, 2.8, 4.1, 1.3],\n",
              "       [6.3, 3.3, 6. , 2.5],\n",
              "       [5.8, 2.7, 5.1, 1.9],\n",
              "       [7.1, 3. , 5.9, 2.1],\n",
              "       [6.3, 2.9, 5.6, 1.8],\n",
              "       [6.5, 3. , 5.8, 2.2],\n",
              "       [7.6, 3. , 6.6, 2.1],\n",
              "       [4.9, 2.5, 4.5, 1.7],\n",
              "       [7.3, 2.9, 6.3, 1.8],\n",
              "       [6.7, 2.5, 5.8, 1.8],\n",
              "       [7.2, 3.6, 6.1, 2.5],\n",
              "       [6.5, 3.2, 5.1, 2. ],\n",
              "       [6.4, 2.7, 5.3, 1.9],\n",
              "       [6.8, 3. , 5.5, 2.1],\n",
              "       [5.7, 2.5, 5. , 2. ],\n",
              "       [5.8, 2.8, 5.1, 2.4],\n",
              "       [6.4, 3.2, 5.3, 2.3],\n",
              "       [6.5, 3. , 5.5, 1.8],\n",
              "       [7.7, 3.8, 6.7, 2.2],\n",
              "       [7.7, 2.6, 6.9, 2.3],\n",
              "       [6. , 2.2, 5. , 1.5],\n",
              "       [6.9, 3.2, 5.7, 2.3],\n",
              "       [5.6, 2.8, 4.9, 2. ],\n",
              "       [7.7, 2.8, 6.7, 2. ],\n",
              "       [6.3, 2.7, 4.9, 1.8],\n",
              "       [6.7, 3.3, 5.7, 2.1],\n",
              "       [7.2, 3.2, 6. , 1.8],\n",
              "       [6.2, 2.8, 4.8, 1.8],\n",
              "       [6.1, 3. , 4.9, 1.8],\n",
              "       [6.4, 2.8, 5.6, 2.1],\n",
              "       [7.2, 3. , 5.8, 1.6],\n",
              "       [7.4, 2.8, 6.1, 1.9],\n",
              "       [7.9, 3.8, 6.4, 2. ],\n",
              "       [6.4, 2.8, 5.6, 2.2],\n",
              "       [6.3, 2.8, 5.1, 1.5],\n",
              "       [6.1, 2.6, 5.6, 1.4],\n",
              "       [7.7, 3. , 6.1, 2.3],\n",
              "       [6.3, 3.4, 5.6, 2.4],\n",
              "       [6.4, 3.1, 5.5, 1.8],\n",
              "       [6. , 3. , 4.8, 1.8],\n",
              "       [6.9, 3.1, 5.4, 2.1],\n",
              "       [6.7, 3.1, 5.6, 2.4],\n",
              "       [6.9, 3.1, 5.1, 2.3],\n",
              "       [5.8, 2.7, 5.1, 1.9],\n",
              "       [6.8, 3.2, 5.9, 2.3],\n",
              "       [6.7, 3.3, 5.7, 2.5],\n",
              "       [6.7, 3. , 5.2, 2.3],\n",
              "       [6.3, 2.5, 5. , 1.9],\n",
              "       [6.5, 3. , 5.2, 2. ],\n",
              "       [6.2, 3.4, 5.4, 2.3],\n",
              "       [5.9, 3. , 5.1, 1.8]])"
            ]
          },
          "metadata": {},
          "execution_count": 8
        }
      ]
    },
    {
      "cell_type": "code",
      "source": [
        "from sklearn.model_selection import train_test_split\n",
        "X_train, X_test, y_train, y_test = train_test_split(X, y, test_size = 0.2, random_state=41)"
      ],
      "metadata": {
        "id": "1HrdPwOTSIZ5"
      },
      "execution_count": 9,
      "outputs": []
    },
    {
      "cell_type": "code",
      "source": [
        "#Convert X and y features and labels to float tensors\n",
        "X_train = torch.FloatTensor(X_train)\n",
        "X_test = torch.FloatTensor(X_test)\n",
        "y_train = torch.LongTensor(y_train)\n",
        "y_test = torch.LongTensor(y_test)\n",
        "\n",
        "X_train.shape"
      ],
      "metadata": {
        "colab": {
          "base_uri": "https://localhost:8080/"
        },
        "id": "DWFcBbHHSd0e",
        "outputId": "6af812f9-b128-4db5-8036-6bfde39cd33a"
      },
      "execution_count": 10,
      "outputs": [
        {
          "output_type": "execute_result",
          "data": {
            "text/plain": [
              "torch.Size([120, 4])"
            ]
          },
          "metadata": {},
          "execution_count": 10
        }
      ]
    },
    {
      "cell_type": "code",
      "source": [
        "# Set the criterion of model to measure the error, how far off the prodiction are from the data\n",
        "criterion = nn.CrossEntropyLoss()\n",
        "#Choose Adam Optimizer, learning rate lr (if the error doesnt go down as we learn after a bunch of iterations(epochs), lower our learning rate)\n",
        "optimizer = torch.optim.Adam(model.parameters(), lr=0.01)\n",
        "# the lower your learning rate the longer its going to take for the model to run\n"
      ],
      "metadata": {
        "id": "JJnW6IM3S53h"
      },
      "execution_count": 11,
      "outputs": []
    },
    {
      "cell_type": "code",
      "source": [
        "model.parameters"
      ],
      "metadata": {
        "colab": {
          "base_uri": "https://localhost:8080/",
          "height": 186
        },
        "id": "sP3EDd1Ibr_B",
        "outputId": "b8c944ea-9515-4085-fb14-87858b14cc9f"
      },
      "execution_count": 12,
      "outputs": [
        {
          "output_type": "execute_result",
          "data": {
            "text/plain": [
              "<bound method Module.parameters of Model(\n",
              "  (fc1): Linear(in_features=4, out_features=8, bias=True)\n",
              "  (fc2): Linear(in_features=8, out_features=9, bias=True)\n",
              "  (out): Linear(in_features=9, out_features=3, bias=True)\n",
              ")>"
            ],
            "text/html": [
              "<div style=\"max-width:800px; border: 1px solid var(--colab-border-color);\"><style>\n",
              "      pre.function-repr-contents {\n",
              "        overflow-x: auto;\n",
              "        padding: 8px 12px;\n",
              "        max-height: 500px;\n",
              "      }\n",
              "\n",
              "      pre.function-repr-contents.function-repr-contents-collapsed {\n",
              "        cursor: pointer;\n",
              "        max-height: 100px;\n",
              "      }\n",
              "    </style>\n",
              "    <pre style=\"white-space: initial; background:\n",
              "         var(--colab-secondary-surface-color); padding: 8px 12px;\n",
              "         border-bottom: 1px solid var(--colab-border-color);\"><b>torch.nn.modules.module.Module.parameters</b><br/>def parameters(recurse: bool=True) -&gt; Iterator[Parameter]</pre><pre class=\"function-repr-contents function-repr-contents-collapsed\" style=\"\"><a class=\"filepath\" style=\"display:none\" href=\"#\">/usr/local/lib/python3.10/dist-packages/torch/nn/modules/module.py</a>Return an iterator over module parameters.\n",
              "\n",
              "This is typically passed to an optimizer.\n",
              "\n",
              "Args:\n",
              "    recurse (bool): if True, then yields parameters of this module\n",
              "        and all submodules. Otherwise, yields only parameters that\n",
              "        are direct members of this module.\n",
              "\n",
              "Yields:\n",
              "    Parameter: module parameter\n",
              "\n",
              "Example::\n",
              "\n",
              "    &gt;&gt;&gt; # xdoctest: +SKIP(&quot;undefined vars&quot;)\n",
              "    &gt;&gt;&gt; for param in model.parameters():\n",
              "    &gt;&gt;&gt;     print(type(param), param.size())\n",
              "    &lt;class &#x27;torch.Tensor&#x27;&gt; (20L,)\n",
              "    &lt;class &#x27;torch.Tensor&#x27;&gt; (20L, 1L, 5L, 5L)</pre>\n",
              "      <script>\n",
              "      if (google.colab.kernel.accessAllowed && google.colab.files && google.colab.files.view) {\n",
              "        for (const element of document.querySelectorAll('.filepath')) {\n",
              "          element.style.display = 'block'\n",
              "          element.onclick = (event) => {\n",
              "            event.preventDefault();\n",
              "            event.stopPropagation();\n",
              "            google.colab.files.view(element.textContent, 2171);\n",
              "          };\n",
              "        }\n",
              "      }\n",
              "      for (const element of document.querySelectorAll('.function-repr-contents')) {\n",
              "        element.onclick = (event) => {\n",
              "          event.preventDefault();\n",
              "          event.stopPropagation();\n",
              "          element.classList.toggle('function-repr-contents-collapsed');\n",
              "        };\n",
              "      }\n",
              "      </script>\n",
              "      </div>"
            ]
          },
          "metadata": {},
          "execution_count": 12
        }
      ]
    },
    {
      "cell_type": "code",
      "source": [
        "# Train our model\n",
        "#Epochs (one run thru all the training data in our network)\n",
        "epochs = 100\n",
        "losses=[]\n",
        "for i in range(epochs):\n",
        "  #Go Forward and get a prediction!\n",
        "  y_pred = model.forward(X_train) # Get predicted results\n",
        "\n",
        "  #Measure the loss/error, gonna be hight at first\n",
        "  loss = criterion(y_pred, y_train) # predicted values vs the y_train\n",
        "\n",
        "  #Keep track of our losses\n",
        "  losses.append(loss.detach().numpy())\n",
        "\n",
        "  #print every 10 epoch\n",
        "  if i%10 == 0:\n",
        "    print(f'Epoch: {i} and loss: {loss}')\n",
        "\n",
        "  # Do some back propagation: take the error rate of forward propagation and feed it back\n",
        "  # through the network to dine tune the weights\n",
        "  optimizer.zero_grad()\n",
        "  loss.backward()\n",
        "  optimizer.step()\n",
        "\n"
      ],
      "metadata": {
        "colab": {
          "base_uri": "https://localhost:8080/"
        },
        "id": "udWfwsMuU_rO",
        "outputId": "364267c1-355b-4c25-ab5e-da5d27a9efcd"
      },
      "execution_count": 13,
      "outputs": [
        {
          "output_type": "stream",
          "name": "stdout",
          "text": [
            "Epoch: 0 and loss: 1.125203251838684\n",
            "Epoch: 10 and loss: 1.0097211599349976\n",
            "Epoch: 20 and loss: 0.8162347674369812\n",
            "Epoch: 30 and loss: 0.585993230342865\n",
            "Epoch: 40 and loss: 0.4003389775753021\n",
            "Epoch: 50 and loss: 0.26794716715812683\n",
            "Epoch: 60 and loss: 0.1796349585056305\n",
            "Epoch: 70 and loss: 0.12165623158216476\n",
            "Epoch: 80 and loss: 0.0860651507973671\n",
            "Epoch: 90 and loss: 0.06522614508867264\n"
          ]
        }
      ]
    },
    {
      "cell_type": "code",
      "source": [
        "# Graph it out!\n",
        "plt.plot(range(epochs), losses)\n",
        "plt.ylabel(\"loss/error\")\n",
        "plt.xlabel(\"Epochs\")\n"
      ],
      "metadata": {
        "colab": {
          "base_uri": "https://localhost:8080/",
          "height": 466
        },
        "id": "7-ln5i41fh8F",
        "outputId": "10ec5fd9-3706-414d-8b16-eaa86314e818"
      },
      "execution_count": 14,
      "outputs": [
        {
          "output_type": "execute_result",
          "data": {
            "text/plain": [
              "Text(0.5, 0, 'Epochs')"
            ]
          },
          "metadata": {},
          "execution_count": 14
        },
        {
          "output_type": "display_data",
          "data": {
            "text/plain": [
              "<Figure size 640x480 with 1 Axes>"
            ],
            "image/png": "[encoded data removed]"
          },
          "metadata": {}
        }
      ]
    },
    {
      "cell_type": "code",
      "source": [
        "# Evaluate Model on Test Data set(validate model on test set)\\\n",
        "correct = 0\n",
        "with torch.no_grad(): #Basically turn off back propogation\n",
        "  for i, data in enumerate(X_test):\n",
        "    y_val = model.forward(X_test)\n",
        "    loss = criterion(y_val, y_test)\n",
        "\n",
        "    #will tell us what type of flower class our network think it is\n",
        "    print(f'{i+1}.) {str(y_val)} \\t {y_test[i]} \\t {y_val.argmax().item()}')\n",
        "\n",
        "    #correct or not\n",
        "    if y_val.argmax().item() == y_test[i]:\n",
        "        correct +=1\n",
        "\n",
        "print(f'We got {correct} correct!')\n"
      ],
      "metadata": {
        "colab": {
          "base_uri": "https://localhost:8080/"
        },
        "id": "ekn2hTbIvsGe",
        "outputId": "554965c1-3132-4925-e59b-6611097de22f",
        "collapsed": true
      },
      "execution_count": 15,
      "outputs": [
        {
          "output_type": "stream",
          "name": "stdout",
          "text": [
            "1.) tensor([[-5.8771,  4.4629,  6.5155],\n",
            "        [-7.5451,  4.1668,  9.7293],\n",
            "        [-8.4517,  5.1275, 10.2015],\n",
            "        [-4.3411,  5.6280,  2.5636],\n",
            "        [-7.1838,  4.8757,  8.3024],\n",
            "        [-3.3940,  5.3421,  1.2802],\n",
            "        [-5.9240,  4.9826,  6.0025],\n",
            "        [-4.2895,  5.7016,  2.3920],\n",
            "        [-6.5369,  4.9261,  7.1291],\n",
            "        [-8.0526,  4.4129, 10.3325],\n",
            "        [-5.6775,  4.9505,  5.6248],\n",
            "        [ 4.5748, -2.2579, -2.8925],\n",
            "        [ 4.2646, -2.0055, -2.7342],\n",
            "        [-2.1081,  4.0482,  0.5803],\n",
            "        [ 3.4608, -1.2147, -2.3488],\n",
            "        [-5.4739,  5.1174,  5.0966],\n",
            "        [ 4.0637, -1.8045, -2.6504],\n",
            "        [-5.8090,  4.6057,  6.2494],\n",
            "        [ 4.9250, -2.5763, -3.0545],\n",
            "        [ 3.4559, -1.2559, -2.3637],\n",
            "        [-2.6161,  4.5584,  0.8575],\n",
            "        [-7.7427,  4.7379,  9.4233],\n",
            "        [ 3.5776, -1.3269, -2.4109],\n",
            "        [ 4.5445, -2.2478, -2.8698],\n",
            "        [-2.6548,  4.6138,  0.8825],\n",
            "        [-3.2832,  5.2189,  1.2163],\n",
            "        [-4.6527,  5.7790,  2.9302],\n",
            "        [-2.9436,  4.8858,  1.0381],\n",
            "        [ 4.5932, -2.2788, -2.8989],\n",
            "        [-4.5797,  5.4566,  3.1690]]) \t 2 \t 29\n",
            "2.) tensor([[-5.8771,  4.4629,  6.5155],\n",
            "        [-7.5451,  4.1668,  9.7293],\n",
            "        [-8.4517,  5.1275, 10.2015],\n",
            "        [-4.3411,  5.6280,  2.5636],\n",
            "        [-7.1838,  4.8757,  8.3024],\n",
            "        [-3.3940,  5.3421,  1.2802],\n",
            "        [-5.9240,  4.9826,  6.0025],\n",
            "        [-4.2895,  5.7016,  2.3920],\n",
            "        [-6.5369,  4.9261,  7.1291],\n",
            "        [-8.0526,  4.4129, 10.3325],\n",
            "        [-5.6775,  4.9505,  5.6248],\n",
            "        [ 4.5748, -2.2579, -2.8925],\n",
            "        [ 4.2646, -2.0055, -2.7342],\n",
            "        [-2.1081,  4.0482,  0.5803],\n",
            "        [ 3.4608, -1.2147, -2.3488],\n",
            "        [-5.4739,  5.1174,  5.0966],\n",
            "        [ 4.0637, -1.8045, -2.6504],\n",
            "        [-5.8090,  4.6057,  6.2494],\n",
            "        [ 4.9250, -2.5763, -3.0545],\n",
            "        [ 3.4559, -1.2559, -2.3637],\n",
            "        [-2.6161,  4.5584,  0.8575],\n",
            "        [-7.7427,  4.7379,  9.4233],\n",
            "        [ 3.5776, -1.3269, -2.4109],\n",
            "        [ 4.5445, -2.2478, -2.8698],\n",
            "        [-2.6548,  4.6138,  0.8825],\n",
            "        [-3.2832,  5.2189,  1.2163],\n",
            "        [-4.6527,  5.7790,  2.9302],\n",
            "        [-2.9436,  4.8858,  1.0381],\n",
            "        [ 4.5932, -2.2788, -2.8989],\n",
            "        [-4.5797,  5.4566,  3.1690]]) \t 2 \t 29\n",
            "3.) tensor([[-5.8771,  4.4629,  6.5155],\n",
            "        [-7.5451,  4.1668,  9.7293],\n",
            "        [-8.4517,  5.1275, 10.2015],\n",
            "        [-4.3411,  5.6280,  2.5636],\n",
            "        [-7.1838,  4.8757,  8.3024],\n",
            "        [-3.3940,  5.3421,  1.2802],\n",
            "        [-5.9240,  4.9826,  6.0025],\n",
            "        [-4.2895,  5.7016,  2.3920],\n",
            "        [-6.5369,  4.9261,  7.1291],\n",
            "        [-8.0526,  4.4129, 10.3325],\n",
            "        [-5.6775,  4.9505,  5.6248],\n",
            "        [ 4.5748, -2.2579, -2.8925],\n",
            "        [ 4.2646, -2.0055, -2.7342],\n",
            "        [-2.1081,  4.0482,  0.5803],\n",
            "        [ 3.4608, -1.2147, -2.3488],\n",
            "        [-5.4739,  5.1174,  5.0966],\n",
            "        [ 4.0637, -1.8045, -2.6504],\n",
            "        [-5.8090,  4.6057,  6.2494],\n",
            "        [ 4.9250, -2.5763, -3.0545],\n",
            "        [ 3.4559, -1.2559, -2.3637],\n",
            "        [-2.6161,  4.5584,  0.8575],\n",
            "        [-7.7427,  4.7379,  9.4233],\n",
            "        [ 3.5776, -1.3269, -2.4109],\n",
            "        [ 4.5445, -2.2478, -2.8698],\n",
            "        [-2.6548,  4.6138,  0.8825],\n",
            "        [-3.2832,  5.2189,  1.2163],\n",
            "        [-4.6527,  5.7790,  2.9302],\n",
            "        [-2.9436,  4.8858,  1.0381],\n",
            "        [ 4.5932, -2.2788, -2.8989],\n",
            "        [-4.5797,  5.4566,  3.1690]]) \t 2 \t 29\n",
            "4.) tensor([[-5.8771,  4.4629,  6.5155],\n",
            "        [-7.5451,  4.1668,  9.7293],\n",
            "        [-8.4517,  5.1275, 10.2015],\n",
            "        [-4.3411,  5.6280,  2.5636],\n",
            "        [-7.1838,  4.8757,  8.3024],\n",
            "        [-3.3940,  5.3421,  1.2802],\n",
            "        [-5.9240,  4.9826,  6.0025],\n",
            "        [-4.2895,  5.7016,  2.3920],\n",
            "        [-6.5369,  4.9261,  7.1291],\n",
            "        [-8.0526,  4.4129, 10.3325],\n",
            "        [-5.6775,  4.9505,  5.6248],\n",
            "        [ 4.5748, -2.2579, -2.8925],\n",
            "        [ 4.2646, -2.0055, -2.7342],\n",
            "        [-2.1081,  4.0482,  0.5803],\n",
            "        [ 3.4608, -1.2147, -2.3488],\n",
            "        [-5.4739,  5.1174,  5.0966],\n",
            "        [ 4.0637, -1.8045, -2.6504],\n",
            "        [-5.8090,  4.6057,  6.2494],\n",
            "        [ 4.9250, -2.5763, -3.0545],\n",
            "        [ 3.4559, -1.2559, -2.3637],\n",
            "        [-2.6161,  4.5584,  0.8575],\n",
            "        [-7.7427,  4.7379,  9.4233],\n",
            "        [ 3.5776, -1.3269, -2.4109],\n",
            "        [ 4.5445, -2.2478, -2.8698],\n",
            "        [-2.6548,  4.6138,  0.8825],\n",
            "        [-3.2832,  5.2189,  1.2163],\n",
            "        [-4.6527,  5.7790,  2.9302],\n",
            "        [-2.9436,  4.8858,  1.0381],\n",
            "        [ 4.5932, -2.2788, -2.8989],\n",
            "        [-4.5797,  5.4566,  3.1690]]) \t 1 \t 29\n",
            "5.) tensor([[-5.8771,  4.4629,  6.5155],\n",
            "        [-7.5451,  4.1668,  9.7293],\n",
            "        [-8.4517,  5.1275, 10.2015],\n",
            "        [-4.3411,  5.6280,  2.5636],\n",
            "        [-7.1838,  4.8757,  8.3024],\n",
            "        [-3.3940,  5.3421,  1.2802],\n",
            "        [-5.9240,  4.9826,  6.0025],\n",
            "        [-4.2895,  5.7016,  2.3920],\n",
            "        [-6.5369,  4.9261,  7.1291],\n",
            "        [-8.0526,  4.4129, 10.3325],\n",
            "        [-5.6775,  4.9505,  5.6248],\n",
            "        [ 4.5748, -2.2579, -2.8925],\n",
            "        [ 4.2646, -2.0055, -2.7342],\n",
            "        [-2.1081,  4.0482,  0.5803],\n",
            "        [ 3.4608, -1.2147, -2.3488],\n",
            "        [-5.4739,  5.1174,  5.0966],\n",
            "        [ 4.0637, -1.8045, -2.6504],\n",
            "        [-5.8090,  4.6057,  6.2494],\n",
            "        [ 4.9250, -2.5763, -3.0545],\n",
            "        [ 3.4559, -1.2559, -2.3637],\n",
            "        [-2.6161,  4.5584,  0.8575],\n",
            "        [-7.7427,  4.7379,  9.4233],\n",
            "        [ 3.5776, -1.3269, -2.4109],\n",
            "        [ 4.5445, -2.2478, -2.8698],\n",
            "        [-2.6548,  4.6138,  0.8825],\n",
            "        [-3.2832,  5.2189,  1.2163],\n",
            "        [-4.6527,  5.7790,  2.9302],\n",
            "        [-2.9436,  4.8858,  1.0381],\n",
            "        [ 4.5932, -2.2788, -2.8989],\n",
            "        [-4.5797,  5.4566,  3.1690]]) \t 2 \t 29\n",
            "6.) tensor([[-5.8771,  4.4629,  6.5155],\n",
            "        [-7.5451,  4.1668,  9.7293],\n",
            "        [-8.4517,  5.1275, 10.2015],\n",
            "        [-4.3411,  5.6280,  2.5636],\n",
            "        [-7.1838,  4.8757,  8.3024],\n",
            "        [-3.3940,  5.3421,  1.2802],\n",
            "        [-5.9240,  4.9826,  6.0025],\n",
            "        [-4.2895,  5.7016,  2.3920],\n",
            "        [-6.5369,  4.9261,  7.1291],\n",
            "        [-8.0526,  4.4129, 10.3325],\n",
            "        [-5.6775,  4.9505,  5.6248],\n",
            "        [ 4.5748, -2.2579, -2.8925],\n",
            "        [ 4.2646, -2.0055, -2.7342],\n",
            "        [-2.1081,  4.0482,  0.5803],\n",
            "        [ 3.4608, -1.2147, -2.3488],\n",
            "        [-5.4739,  5.1174,  5.0966],\n",
            "        [ 4.0637, -1.8045, -2.6504],\n",
            "        [-5.8090,  4.6057,  6.2494],\n",
            "        [ 4.9250, -2.5763, -3.0545],\n",
            "        [ 3.4559, -1.2559, -2.3637],\n",
            "        [-2.6161,  4.5584,  0.8575],\n",
            "        [-7.7427,  4.7379,  9.4233],\n",
            "        [ 3.5776, -1.3269, -2.4109],\n",
            "        [ 4.5445, -2.2478, -2.8698],\n",
            "        [-2.6548,  4.6138,  0.8825],\n",
            "        [-3.2832,  5.2189,  1.2163],\n",
            "        [-4.6527,  5.7790,  2.9302],\n",
            "        [-2.9436,  4.8858,  1.0381],\n",
            "        [ 4.5932, -2.2788, -2.8989],\n",
            "        [-4.5797,  5.4566,  3.1690]]) \t 1 \t 29\n",
            "7.) tensor([[-5.8771,  4.4629,  6.5155],\n",
            "        [-7.5451,  4.1668,  9.7293],\n",
            "        [-8.4517,  5.1275, 10.2015],\n",
            "        [-4.3411,  5.6280,  2.5636],\n",
            "        [-7.1838,  4.8757,  8.3024],\n",
            "        [-3.3940,  5.3421,  1.2802],\n",
            "        [-5.9240,  4.9826,  6.0025],\n",
            "        [-4.2895,  5.7016,  2.3920],\n",
            "        [-6.5369,  4.9261,  7.1291],\n",
            "        [-8.0526,  4.4129, 10.3325],\n",
            "        [-5.6775,  4.9505,  5.6248],\n",
            "        [ 4.5748, -2.2579, -2.8925],\n",
            "        [ 4.2646, -2.0055, -2.7342],\n",
            "        [-2.1081,  4.0482,  0.5803],\n",
            "        [ 3.4608, -1.2147, -2.3488],\n",
            "        [-5.4739,  5.1174,  5.0966],\n",
            "        [ 4.0637, -1.8045, -2.6504],\n",
            "        [-5.8090,  4.6057,  6.2494],\n",
            "        [ 4.9250, -2.5763, -3.0545],\n",
            "        [ 3.4559, -1.2559, -2.3637],\n",
            "        [-2.6161,  4.5584,  0.8575],\n",
            "        [-7.7427,  4.7379,  9.4233],\n",
            "        [ 3.5776, -1.3269, -2.4109],\n",
            "        [ 4.5445, -2.2478, -2.8698],\n",
            "        [-2.6548,  4.6138,  0.8825],\n",
            "        [-3.2832,  5.2189,  1.2163],\n",
            "        [-4.6527,  5.7790,  2.9302],\n",
            "        [-2.9436,  4.8858,  1.0381],\n",
            "        [ 4.5932, -2.2788, -2.8989],\n",
            "        [-4.5797,  5.4566,  3.1690]]) \t 2 \t 29\n",
            "8.) tensor([[-5.8771,  4.4629,  6.5155],\n",
            "        [-7.5451,  4.1668,  9.7293],\n",
            "        [-8.4517,  5.1275, 10.2015],\n",
            "        [-4.3411,  5.6280,  2.5636],\n",
            "        [-7.1838,  4.8757,  8.3024],\n",
            "        [-3.3940,  5.3421,  1.2802],\n",
            "        [-5.9240,  4.9826,  6.0025],\n",
            "        [-4.2895,  5.7016,  2.3920],\n",
            "        [-6.5369,  4.9261,  7.1291],\n",
            "        [-8.0526,  4.4129, 10.3325],\n",
            "        [-5.6775,  4.9505,  5.6248],\n",
            "        [ 4.5748, -2.2579, -2.8925],\n",
            "        [ 4.2646, -2.0055, -2.7342],\n",
            "        [-2.1081,  4.0482,  0.5803],\n",
            "        [ 3.4608, -1.2147, -2.3488],\n",
            "        [-5.4739,  5.1174,  5.0966],\n",
            "        [ 4.0637, -1.8045, -2.6504],\n",
            "        [-5.8090,  4.6057,  6.2494],\n",
            "        [ 4.9250, -2.5763, -3.0545],\n",
            "        [ 3.4559, -1.2559, -2.3637],\n",
            "        [-2.6161,  4.5584,  0.8575],\n",
            "        [-7.7427,  4.7379,  9.4233],\n",
            "        [ 3.5776, -1.3269, -2.4109],\n",
            "        [ 4.5445, -2.2478, -2.8698],\n",
            "        [-2.6548,  4.6138,  0.8825],\n",
            "        [-3.2832,  5.2189,  1.2163],\n",
            "        [-4.6527,  5.7790,  2.9302],\n",
            "        [-2.9436,  4.8858,  1.0381],\n",
            "        [ 4.5932, -2.2788, -2.8989],\n",
            "        [-4.5797,  5.4566,  3.1690]]) \t 1 \t 29\n",
            "9.) tensor([[-5.8771,  4.4629,  6.5155],\n",
            "        [-7.5451,  4.1668,  9.7293],\n",
            "        [-8.4517,  5.1275, 10.2015],\n",
            "        [-4.3411,  5.6280,  2.5636],\n",
            "        [-7.1838,  4.8757,  8.3024],\n",
            "        [-3.3940,  5.3421,  1.2802],\n",
            "        [-5.9240,  4.9826,  6.0025],\n",
            "        [-4.2895,  5.7016,  2.3920],\n",
            "        [-6.5369,  4.9261,  7.1291],\n",
            "        [-8.0526,  4.4129, 10.3325],\n",
            "        [-5.6775,  4.9505,  5.6248],\n",
            "        [ 4.5748, -2.2579, -2.8925],\n",
            "        [ 4.2646, -2.0055, -2.7342],\n",
            "        [-2.1081,  4.0482,  0.5803],\n",
            "        [ 3.4608, -1.2147, -2.3488],\n",
            "        [-5.4739,  5.1174,  5.0966],\n",
            "        [ 4.0637, -1.8045, -2.6504],\n",
            "        [-5.8090,  4.6057,  6.2494],\n",
            "        [ 4.9250, -2.5763, -3.0545],\n",
            "        [ 3.4559, -1.2559, -2.3637],\n",
            "        [-2.6161,  4.5584,  0.8575],\n",
            "        [-7.7427,  4.7379,  9.4233],\n",
            "        [ 3.5776, -1.3269, -2.4109],\n",
            "        [ 4.5445, -2.2478, -2.8698],\n",
            "        [-2.6548,  4.6138,  0.8825],\n",
            "        [-3.2832,  5.2189,  1.2163],\n",
            "        [-4.6527,  5.7790,  2.9302],\n",
            "        [-2.9436,  4.8858,  1.0381],\n",
            "        [ 4.5932, -2.2788, -2.8989],\n",
            "        [-4.5797,  5.4566,  3.1690]]) \t 2 \t 29\n",
            "10.) tensor([[-5.8771,  4.4629,  6.5155],\n",
            "        [-7.5451,  4.1668,  9.7293],\n",
            "        [-8.4517,  5.1275, 10.2015],\n",
            "        [-4.3411,  5.6280,  2.5636],\n",
            "        [-7.1838,  4.8757,  8.3024],\n",
            "        [-3.3940,  5.3421,  1.2802],\n",
            "        [-5.9240,  4.9826,  6.0025],\n",
            "        [-4.2895,  5.7016,  2.3920],\n",
            "        [-6.5369,  4.9261,  7.1291],\n",
            "        [-8.0526,  4.4129, 10.3325],\n",
            "        [-5.6775,  4.9505,  5.6248],\n",
            "        [ 4.5748, -2.2579, -2.8925],\n",
            "        [ 4.2646, -2.0055, -2.7342],\n",
            "        [-2.1081,  4.0482,  0.5803],\n",
            "        [ 3.4608, -1.2147, -2.3488],\n",
            "        [-5.4739,  5.1174,  5.0966],\n",
            "        [ 4.0637, -1.8045, -2.6504],\n",
            "        [-5.8090,  4.6057,  6.2494],\n",
            "        [ 4.9250, -2.5763, -3.0545],\n",
            "        [ 3.4559, -1.2559, -2.3637],\n",
            "        [-2.6161,  4.5584,  0.8575],\n",
            "        [-7.7427,  4.7379,  9.4233],\n",
            "        [ 3.5776, -1.3269, -2.4109],\n",
            "        [ 4.5445, -2.2478, -2.8698],\n",
            "        [-2.6548,  4.6138,  0.8825],\n",
            "        [-3.2832,  5.2189,  1.2163],\n",
            "        [-4.6527,  5.7790,  2.9302],\n",
            "        [-2.9436,  4.8858,  1.0381],\n",
            "        [ 4.5932, -2.2788, -2.8989],\n",
            "        [-4.5797,  5.4566,  3.1690]]) \t 2 \t 29\n",
            "11.) tensor([[-5.8771,  4.4629,  6.5155],\n",
            "        [-7.5451,  4.1668,  9.7293],\n",
            "        [-8.4517,  5.1275, 10.2015],\n",
            "        [-4.3411,  5.6280,  2.5636],\n",
            "        [-7.1838,  4.8757,  8.3024],\n",
            "        [-3.3940,  5.3421,  1.2802],\n",
            "        [-5.9240,  4.9826,  6.0025],\n",
            "        [-4.2895,  5.7016,  2.3920],\n",
            "        [-6.5369,  4.9261,  7.1291],\n",
            "        [-8.0526,  4.4129, 10.3325],\n",
            "        [-5.6775,  4.9505,  5.6248],\n",
            "        [ 4.5748, -2.2579, -2.8925],\n",
            "        [ 4.2646, -2.0055, -2.7342],\n",
            "        [-2.1081,  4.0482,  0.5803],\n",
            "        [ 3.4608, -1.2147, -2.3488],\n",
            "        [-5.4739,  5.1174,  5.0966],\n",
            "        [ 4.0637, -1.8045, -2.6504],\n",
            "        [-5.8090,  4.6057,  6.2494],\n",
            "        [ 4.9250, -2.5763, -3.0545],\n",
            "        [ 3.4559, -1.2559, -2.3637],\n",
            "        [-2.6161,  4.5584,  0.8575],\n",
            "        [-7.7427,  4.7379,  9.4233],\n",
            "        [ 3.5776, -1.3269, -2.4109],\n",
            "        [ 4.5445, -2.2478, -2.8698],\n",
            "        [-2.6548,  4.6138,  0.8825],\n",
            "        [-3.2832,  5.2189,  1.2163],\n",
            "        [-4.6527,  5.7790,  2.9302],\n",
            "        [-2.9436,  4.8858,  1.0381],\n",
            "        [ 4.5932, -2.2788, -2.8989],\n",
            "        [-4.5797,  5.4566,  3.1690]]) \t 2 \t 29\n",
            "12.) tensor([[-5.8771,  4.4629,  6.5155],\n",
            "        [-7.5451,  4.1668,  9.7293],\n",
            "        [-8.4517,  5.1275, 10.2015],\n",
            "        [-4.3411,  5.6280,  2.5636],\n",
            "        [-7.1838,  4.8757,  8.3024],\n",
            "        [-3.3940,  5.3421,  1.2802],\n",
            "        [-5.9240,  4.9826,  6.0025],\n",
            "        [-4.2895,  5.7016,  2.3920],\n",
            "        [-6.5369,  4.9261,  7.1291],\n",
            "        [-8.0526,  4.4129, 10.3325],\n",
            "        [-5.6775,  4.9505,  5.6248],\n",
            "        [ 4.5748, -2.2579, -2.8925],\n",
            "        [ 4.2646, -2.0055, -2.7342],\n",
            "        [-2.1081,  4.0482,  0.5803],\n",
            "        [ 3.4608, -1.2147, -2.3488],\n",
            "        [-5.4739,  5.1174,  5.0966],\n",
            "        [ 4.0637, -1.8045, -2.6504],\n",
            "        [-5.8090,  4.6057,  6.2494],\n",
            "        [ 4.9250, -2.5763, -3.0545],\n",
            "        [ 3.4559, -1.2559, -2.3637],\n",
            "        [-2.6161,  4.5584,  0.8575],\n",
            "        [-7.7427,  4.7379,  9.4233],\n",
            "        [ 3.5776, -1.3269, -2.4109],\n",
            "        [ 4.5445, -2.2478, -2.8698],\n",
            "        [-2.6548,  4.6138,  0.8825],\n",
            "        [-3.2832,  5.2189,  1.2163],\n",
            "        [-4.6527,  5.7790,  2.9302],\n",
            "        [-2.9436,  4.8858,  1.0381],\n",
            "        [ 4.5932, -2.2788, -2.8989],\n",
            "        [-4.5797,  5.4566,  3.1690]]) \t 0 \t 29\n",
            "13.) tensor([[-5.8771,  4.4629,  6.5155],\n",
            "        [-7.5451,  4.1668,  9.7293],\n",
            "        [-8.4517,  5.1275, 10.2015],\n",
            "        [-4.3411,  5.6280,  2.5636],\n",
            "        [-7.1838,  4.8757,  8.3024],\n",
            "        [-3.3940,  5.3421,  1.2802],\n",
            "        [-5.9240,  4.9826,  6.0025],\n",
            "        [-4.2895,  5.7016,  2.3920],\n",
            "        [-6.5369,  4.9261,  7.1291],\n",
            "        [-8.0526,  4.4129, 10.3325],\n",
            "        [-5.6775,  4.9505,  5.6248],\n",
            "        [ 4.5748, -2.2579, -2.8925],\n",
            "        [ 4.2646, -2.0055, -2.7342],\n",
            "        [-2.1081,  4.0482,  0.5803],\n",
            "        [ 3.4608, -1.2147, -2.3488],\n",
            "        [-5.4739,  5.1174,  5.0966],\n",
            "        [ 4.0637, -1.8045, -2.6504],\n",
            "        [-5.8090,  4.6057,  6.2494],\n",
            "        [ 4.9250, -2.5763, -3.0545],\n",
            "        [ 3.4559, -1.2559, -2.3637],\n",
            "        [-2.6161,  4.5584,  0.8575],\n",
            "        [-7.7427,  4.7379,  9.4233],\n",
            "        [ 3.5776, -1.3269, -2.4109],\n",
            "        [ 4.5445, -2.2478, -2.8698],\n",
            "        [-2.6548,  4.6138,  0.8825],\n",
            "        [-3.2832,  5.2189,  1.2163],\n",
            "        [-4.6527,  5.7790,  2.9302],\n",
            "        [-2.9436,  4.8858,  1.0381],\n",
            "        [ 4.5932, -2.2788, -2.8989],\n",
            "        [-4.5797,  5.4566,  3.1690]]) \t 0 \t 29\n",
            "14.) tensor([[-5.8771,  4.4629,  6.5155],\n",
            "        [-7.5451,  4.1668,  9.7293],\n",
            "        [-8.4517,  5.1275, 10.2015],\n",
            "        [-4.3411,  5.6280,  2.5636],\n",
            "        [-7.1838,  4.8757,  8.3024],\n",
            "        [-3.3940,  5.3421,  1.2802],\n",
            "        [-5.9240,  4.9826,  6.0025],\n",
            "        [-4.2895,  5.7016,  2.3920],\n",
            "        [-6.5369,  4.9261,  7.1291],\n",
            "        [-8.0526,  4.4129, 10.3325],\n",
            "        [-5.6775,  4.9505,  5.6248],\n",
            "        [ 4.5748, -2.2579, -2.8925],\n",
            "        [ 4.2646, -2.0055, -2.7342],\n",
            "        [-2.1081,  4.0482,  0.5803],\n",
            "        [ 3.4608, -1.2147, -2.3488],\n",
            "        [-5.4739,  5.1174,  5.0966],\n",
            "        [ 4.0637, -1.8045, -2.6504],\n",
            "        [-5.8090,  4.6057,  6.2494],\n",
            "        [ 4.9250, -2.5763, -3.0545],\n",
            "        [ 3.4559, -1.2559, -2.3637],\n",
            "        [-2.6161,  4.5584,  0.8575],\n",
            "        [-7.7427,  4.7379,  9.4233],\n",
            "        [ 3.5776, -1.3269, -2.4109],\n",
            "        [ 4.5445, -2.2478, -2.8698],\n",
            "        [-2.6548,  4.6138,  0.8825],\n",
            "        [-3.2832,  5.2189,  1.2163],\n",
            "        [-4.6527,  5.7790,  2.9302],\n",
            "        [-2.9436,  4.8858,  1.0381],\n",
            "        [ 4.5932, -2.2788, -2.8989],\n",
            "        [-4.5797,  5.4566,  3.1690]]) \t 1 \t 29\n",
            "15.) tensor([[-5.8771,  4.4629,  6.5155],\n",
            "        [-7.5451,  4.1668,  9.7293],\n",
            "        [-8.4517,  5.1275, 10.2015],\n",
            "        [-4.3411,  5.6280,  2.5636],\n",
            "        [-7.1838,  4.8757,  8.3024],\n",
            "        [-3.3940,  5.3421,  1.2802],\n",
            "        [-5.9240,  4.9826,  6.0025],\n",
            "        [-4.2895,  5.7016,  2.3920],\n",
            "        [-6.5369,  4.9261,  7.1291],\n",
            "        [-8.0526,  4.4129, 10.3325],\n",
            "        [-5.6775,  4.9505,  5.6248],\n",
            "        [ 4.5748, -2.2579, -2.8925],\n",
            "        [ 4.2646, -2.0055, -2.7342],\n",
            "        [-2.1081,  4.0482,  0.5803],\n",
            "        [ 3.4608, -1.2147, -2.3488],\n",
            "        [-5.4739,  5.1174,  5.0966],\n",
            "        [ 4.0637, -1.8045, -2.6504],\n",
            "        [-5.8090,  4.6057,  6.2494],\n",
            "        [ 4.9250, -2.5763, -3.0545],\n",
            "        [ 3.4559, -1.2559, -2.3637],\n",
            "        [-2.6161,  4.5584,  0.8575],\n",
            "        [-7.7427,  4.7379,  9.4233],\n",
            "        [ 3.5776, -1.3269, -2.4109],\n",
            "        [ 4.5445, -2.2478, -2.8698],\n",
            "        [-2.6548,  4.6138,  0.8825],\n",
            "        [-3.2832,  5.2189,  1.2163],\n",
            "        [-4.6527,  5.7790,  2.9302],\n",
            "        [-2.9436,  4.8858,  1.0381],\n",
            "        [ 4.5932, -2.2788, -2.8989],\n",
            "        [-4.5797,  5.4566,  3.1690]]) \t 0 \t 29\n",
            "16.) tensor([[-5.8771,  4.4629,  6.5155],\n",
            "        [-7.5451,  4.1668,  9.7293],\n",
            "        [-8.4517,  5.1275, 10.2015],\n",
            "        [-4.3411,  5.6280,  2.5636],\n",
            "        [-7.1838,  4.8757,  8.3024],\n",
            "        [-3.3940,  5.3421,  1.2802],\n",
            "        [-5.9240,  4.9826,  6.0025],\n",
            "        [-4.2895,  5.7016,  2.3920],\n",
            "        [-6.5369,  4.9261,  7.1291],\n",
            "        [-8.0526,  4.4129, 10.3325],\n",
            "        [-5.6775,  4.9505,  5.6248],\n",
            "        [ 4.5748, -2.2579, -2.8925],\n",
            "        [ 4.2646, -2.0055, -2.7342],\n",
            "        [-2.1081,  4.0482,  0.5803],\n",
            "        [ 3.4608, -1.2147, -2.3488],\n",
            "        [-5.4739,  5.1174,  5.0966],\n",
            "        [ 4.0637, -1.8045, -2.6504],\n",
            "        [-5.8090,  4.6057,  6.2494],\n",
            "        [ 4.9250, -2.5763, -3.0545],\n",
            "        [ 3.4559, -1.2559, -2.3637],\n",
            "        [-2.6161,  4.5584,  0.8575],\n",
            "        [-7.7427,  4.7379,  9.4233],\n",
            "        [ 3.5776, -1.3269, -2.4109],\n",
            "        [ 4.5445, -2.2478, -2.8698],\n",
            "        [-2.6548,  4.6138,  0.8825],\n",
            "        [-3.2832,  5.2189,  1.2163],\n",
            "        [-4.6527,  5.7790,  2.9302],\n",
            "        [-2.9436,  4.8858,  1.0381],\n",
            "        [ 4.5932, -2.2788, -2.8989],\n",
            "        [-4.5797,  5.4566,  3.1690]]) \t 2 \t 29\n",
            "17.) tensor([[-5.8771,  4.4629,  6.5155],\n",
            "        [-7.5451,  4.1668,  9.7293],\n",
            "        [-8.4517,  5.1275, 10.2015],\n",
            "        [-4.3411,  5.6280,  2.5636],\n",
            "        [-7.1838,  4.8757,  8.3024],\n",
            "        [-3.3940,  5.3421,  1.2802],\n",
            "        [-5.9240,  4.9826,  6.0025],\n",
            "        [-4.2895,  5.7016,  2.3920],\n",
            "        [-6.5369,  4.9261,  7.1291],\n",
            "        [-8.0526,  4.4129, 10.3325],\n",
            "        [-5.6775,  4.9505,  5.6248],\n",
            "        [ 4.5748, -2.2579, -2.8925],\n",
            "        [ 4.2646, -2.0055, -2.7342],\n",
            "        [-2.1081,  4.0482,  0.5803],\n",
            "        [ 3.4608, -1.2147, -2.3488],\n",
            "        [-5.4739,  5.1174,  5.0966],\n",
            "        [ 4.0637, -1.8045, -2.6504],\n",
            "        [-5.8090,  4.6057,  6.2494],\n",
            "        [ 4.9250, -2.5763, -3.0545],\n",
            "        [ 3.4559, -1.2559, -2.3637],\n",
            "        [-2.6161,  4.5584,  0.8575],\n",
            "        [-7.7427,  4.7379,  9.4233],\n",
            "        [ 3.5776, -1.3269, -2.4109],\n",
            "        [ 4.5445, -2.2478, -2.8698],\n",
            "        [-2.6548,  4.6138,  0.8825],\n",
            "        [-3.2832,  5.2189,  1.2163],\n",
            "        [-4.6527,  5.7790,  2.9302],\n",
            "        [-2.9436,  4.8858,  1.0381],\n",
            "        [ 4.5932, -2.2788, -2.8989],\n",
            "        [-4.5797,  5.4566,  3.1690]]) \t 0 \t 29\n",
            "18.) tensor([[-5.8771,  4.4629,  6.5155],\n",
            "        [-7.5451,  4.1668,  9.7293],\n",
            "        [-8.4517,  5.1275, 10.2015],\n",
            "        [-4.3411,  5.6280,  2.5636],\n",
            "        [-7.1838,  4.8757,  8.3024],\n",
            "        [-3.3940,  5.3421,  1.2802],\n",
            "        [-5.9240,  4.9826,  6.0025],\n",
            "        [-4.2895,  5.7016,  2.3920],\n",
            "        [-6.5369,  4.9261,  7.1291],\n",
            "        [-8.0526,  4.4129, 10.3325],\n",
            "        [-5.6775,  4.9505,  5.6248],\n",
            "        [ 4.5748, -2.2579, -2.8925],\n",
            "        [ 4.2646, -2.0055, -2.7342],\n",
            "        [-2.1081,  4.0482,  0.5803],\n",
            "        [ 3.4608, -1.2147, -2.3488],\n",
            "        [-5.4739,  5.1174,  5.0966],\n",
            "        [ 4.0637, -1.8045, -2.6504],\n",
            "        [-5.8090,  4.6057,  6.2494],\n",
            "        [ 4.9250, -2.5763, -3.0545],\n",
            "        [ 3.4559, -1.2559, -2.3637],\n",
            "        [-2.6161,  4.5584,  0.8575],\n",
            "        [-7.7427,  4.7379,  9.4233],\n",
            "        [ 3.5776, -1.3269, -2.4109],\n",
            "        [ 4.5445, -2.2478, -2.8698],\n",
            "        [-2.6548,  4.6138,  0.8825],\n",
            "        [-3.2832,  5.2189,  1.2163],\n",
            "        [-4.6527,  5.7790,  2.9302],\n",
            "        [-2.9436,  4.8858,  1.0381],\n",
            "        [ 4.5932, -2.2788, -2.8989],\n",
            "        [-4.5797,  5.4566,  3.1690]]) \t 1 \t 29\n",
            "19.) tensor([[-5.8771,  4.4629,  6.5155],\n",
            "        [-7.5451,  4.1668,  9.7293],\n",
            "        [-8.4517,  5.1275, 10.2015],\n",
            "        [-4.3411,  5.6280,  2.5636],\n",
            "        [-7.1838,  4.8757,  8.3024],\n",
            "        [-3.3940,  5.3421,  1.2802],\n",
            "        [-5.9240,  4.9826,  6.0025],\n",
            "        [-4.2895,  5.7016,  2.3920],\n",
            "        [-6.5369,  4.9261,  7.1291],\n",
            "        [-8.0526,  4.4129, 10.3325],\n",
            "        [-5.6775,  4.9505,  5.6248],\n",
            "        [ 4.5748, -2.2579, -2.8925],\n",
            "        [ 4.2646, -2.0055, -2.7342],\n",
            "        [-2.1081,  4.0482,  0.5803],\n",
            "        [ 3.4608, -1.2147, -2.3488],\n",
            "        [-5.4739,  5.1174,  5.0966],\n",
            "        [ 4.0637, -1.8045, -2.6504],\n",
            "        [-5.8090,  4.6057,  6.2494],\n",
            "        [ 4.9250, -2.5763, -3.0545],\n",
            "        [ 3.4559, -1.2559, -2.3637],\n",
            "        [-2.6161,  4.5584,  0.8575],\n",
            "        [-7.7427,  4.7379,  9.4233],\n",
            "        [ 3.5776, -1.3269, -2.4109],\n",
            "        [ 4.5445, -2.2478, -2.8698],\n",
            "        [-2.6548,  4.6138,  0.8825],\n",
            "        [-3.2832,  5.2189,  1.2163],\n",
            "        [-4.6527,  5.7790,  2.9302],\n",
            "        [-2.9436,  4.8858,  1.0381],\n",
            "        [ 4.5932, -2.2788, -2.8989],\n",
            "        [-4.5797,  5.4566,  3.1690]]) \t 0 \t 29\n",
            "20.) tensor([[-5.8771,  4.4629,  6.5155],\n",
            "        [-7.5451,  4.1668,  9.7293],\n",
            "        [-8.4517,  5.1275, 10.2015],\n",
            "        [-4.3411,  5.6280,  2.5636],\n",
            "        [-7.1838,  4.8757,  8.3024],\n",
            "        [-3.3940,  5.3421,  1.2802],\n",
            "        [-5.9240,  4.9826,  6.0025],\n",
            "        [-4.2895,  5.7016,  2.3920],\n",
            "        [-6.5369,  4.9261,  7.1291],\n",
            "        [-8.0526,  4.4129, 10.3325],\n",
            "        [-5.6775,  4.9505,  5.6248],\n",
            "        [ 4.5748, -2.2579, -2.8925],\n",
            "        [ 4.2646, -2.0055, -2.7342],\n",
            "        [-2.1081,  4.0482,  0.5803],\n",
            "        [ 3.4608, -1.2147, -2.3488],\n",
            "        [-5.4739,  5.1174,  5.0966],\n",
            "        [ 4.0637, -1.8045, -2.6504],\n",
            "        [-5.8090,  4.6057,  6.2494],\n",
            "        [ 4.9250, -2.5763, -3.0545],\n",
            "        [ 3.4559, -1.2559, -2.3637],\n",
            "        [-2.6161,  4.5584,  0.8575],\n",
            "        [-7.7427,  4.7379,  9.4233],\n",
            "        [ 3.5776, -1.3269, -2.4109],\n",
            "        [ 4.5445, -2.2478, -2.8698],\n",
            "        [-2.6548,  4.6138,  0.8825],\n",
            "        [-3.2832,  5.2189,  1.2163],\n",
            "        [-4.6527,  5.7790,  2.9302],\n",
            "        [-2.9436,  4.8858,  1.0381],\n",
            "        [ 4.5932, -2.2788, -2.8989],\n",
            "        [-4.5797,  5.4566,  3.1690]]) \t 0 \t 29\n",
            "21.) tensor([[-5.8771,  4.4629,  6.5155],\n",
            "        [-7.5451,  4.1668,  9.7293],\n",
            "        [-8.4517,  5.1275, 10.2015],\n",
            "        [-4.3411,  5.6280,  2.5636],\n",
            "        [-7.1838,  4.8757,  8.3024],\n",
            "        [-3.3940,  5.3421,  1.2802],\n",
            "        [-5.9240,  4.9826,  6.0025],\n",
            "        [-4.2895,  5.7016,  2.3920],\n",
            "        [-6.5369,  4.9261,  7.1291],\n",
            "        [-8.0526,  4.4129, 10.3325],\n",
            "        [-5.6775,  4.9505,  5.6248],\n",
            "        [ 4.5748, -2.2579, -2.8925],\n",
            "        [ 4.2646, -2.0055, -2.7342],\n",
            "        [-2.1081,  4.0482,  0.5803],\n",
            "        [ 3.4608, -1.2147, -2.3488],\n",
            "        [-5.4739,  5.1174,  5.0966],\n",
            "        [ 4.0637, -1.8045, -2.6504],\n",
            "        [-5.8090,  4.6057,  6.2494],\n",
            "        [ 4.9250, -2.5763, -3.0545],\n",
            "        [ 3.4559, -1.2559, -2.3637],\n",
            "        [-2.6161,  4.5584,  0.8575],\n",
            "        [-7.7427,  4.7379,  9.4233],\n",
            "        [ 3.5776, -1.3269, -2.4109],\n",
            "        [ 4.5445, -2.2478, -2.8698],\n",
            "        [-2.6548,  4.6138,  0.8825],\n",
            "        [-3.2832,  5.2189,  1.2163],\n",
            "        [-4.6527,  5.7790,  2.9302],\n",
            "        [-2.9436,  4.8858,  1.0381],\n",
            "        [ 4.5932, -2.2788, -2.8989],\n",
            "        [-4.5797,  5.4566,  3.1690]]) \t 1 \t 29\n",
            "22.) tensor([[-5.8771,  4.4629,  6.5155],\n",
            "        [-7.5451,  4.1668,  9.7293],\n",
            "        [-8.4517,  5.1275, 10.2015],\n",
            "        [-4.3411,  5.6280,  2.5636],\n",
            "        [-7.1838,  4.8757,  8.3024],\n",
            "        [-3.3940,  5.3421,  1.2802],\n",
            "        [-5.9240,  4.9826,  6.0025],\n",
            "        [-4.2895,  5.7016,  2.3920],\n",
            "        [-6.5369,  4.9261,  7.1291],\n",
            "        [-8.0526,  4.4129, 10.3325],\n",
            "        [-5.6775,  4.9505,  5.6248],\n",
            "        [ 4.5748, -2.2579, -2.8925],\n",
            "        [ 4.2646, -2.0055, -2.7342],\n",
            "        [-2.1081,  4.0482,  0.5803],\n",
            "        [ 3.4608, -1.2147, -2.3488],\n",
            "        [-5.4739,  5.1174,  5.0966],\n",
            "        [ 4.0637, -1.8045, -2.6504],\n",
            "        [-5.8090,  4.6057,  6.2494],\n",
            "        [ 4.9250, -2.5763, -3.0545],\n",
            "        [ 3.4559, -1.2559, -2.3637],\n",
            "        [-2.6161,  4.5584,  0.8575],\n",
            "        [-7.7427,  4.7379,  9.4233],\n",
            "        [ 3.5776, -1.3269, -2.4109],\n",
            "        [ 4.5445, -2.2478, -2.8698],\n",
            "        [-2.6548,  4.6138,  0.8825],\n",
            "        [-3.2832,  5.2189,  1.2163],\n",
            "        [-4.6527,  5.7790,  2.9302],\n",
            "        [-2.9436,  4.8858,  1.0381],\n",
            "        [ 4.5932, -2.2788, -2.8989],\n",
            "        [-4.5797,  5.4566,  3.1690]]) \t 2 \t 29\n",
            "23.) tensor([[-5.8771,  4.4629,  6.5155],\n",
            "        [-7.5451,  4.1668,  9.7293],\n",
            "        [-8.4517,  5.1275, 10.2015],\n",
            "        [-4.3411,  5.6280,  2.5636],\n",
            "        [-7.1838,  4.8757,  8.3024],\n",
            "        [-3.3940,  5.3421,  1.2802],\n",
            "        [-5.9240,  4.9826,  6.0025],\n",
            "        [-4.2895,  5.7016,  2.3920],\n",
            "        [-6.5369,  4.9261,  7.1291],\n",
            "        [-8.0526,  4.4129, 10.3325],\n",
            "        [-5.6775,  4.9505,  5.6248],\n",
            "        [ 4.5748, -2.2579, -2.8925],\n",
            "        [ 4.2646, -2.0055, -2.7342],\n",
            "        [-2.1081,  4.0482,  0.5803],\n",
            "        [ 3.4608, -1.2147, -2.3488],\n",
            "        [-5.4739,  5.1174,  5.0966],\n",
            "        [ 4.0637, -1.8045, -2.6504],\n",
            "        [-5.8090,  4.6057,  6.2494],\n",
            "        [ 4.9250, -2.5763, -3.0545],\n",
            "        [ 3.4559, -1.2559, -2.3637],\n",
            "        [-2.6161,  4.5584,  0.8575],\n",
            "        [-7.7427,  4.7379,  9.4233],\n",
            "        [ 3.5776, -1.3269, -2.4109],\n",
            "        [ 4.5445, -2.2478, -2.8698],\n",
            "        [-2.6548,  4.6138,  0.8825],\n",
            "        [-3.2832,  5.2189,  1.2163],\n",
            "        [-4.6527,  5.7790,  2.9302],\n",
            "        [-2.9436,  4.8858,  1.0381],\n",
            "        [ 4.5932, -2.2788, -2.8989],\n",
            "        [-4.5797,  5.4566,  3.1690]]) \t 0 \t 29\n",
            "24.) tensor([[-5.8771,  4.4629,  6.5155],\n",
            "        [-7.5451,  4.1668,  9.7293],\n",
            "        [-8.4517,  5.1275, 10.2015],\n",
            "        [-4.3411,  5.6280,  2.5636],\n",
            "        [-7.1838,  4.8757,  8.3024],\n",
            "        [-3.3940,  5.3421,  1.2802],\n",
            "        [-5.9240,  4.9826,  6.0025],\n",
            "        [-4.2895,  5.7016,  2.3920],\n",
            "        [-6.5369,  4.9261,  7.1291],\n",
            "        [-8.0526,  4.4129, 10.3325],\n",
            "        [-5.6775,  4.9505,  5.6248],\n",
            "        [ 4.5748, -2.2579, -2.8925],\n",
            "        [ 4.2646, -2.0055, -2.7342],\n",
            "        [-2.1081,  4.0482,  0.5803],\n",
            "        [ 3.4608, -1.2147, -2.3488],\n",
            "        [-5.4739,  5.1174,  5.0966],\n",
            "        [ 4.0637, -1.8045, -2.6504],\n",
            "        [-5.8090,  4.6057,  6.2494],\n",
            "        [ 4.9250, -2.5763, -3.0545],\n",
            "        [ 3.4559, -1.2559, -2.3637],\n",
            "        [-2.6161,  4.5584,  0.8575],\n",
            "        [-7.7427,  4.7379,  9.4233],\n",
            "        [ 3.5776, -1.3269, -2.4109],\n",
            "        [ 4.5445, -2.2478, -2.8698],\n",
            "        [-2.6548,  4.6138,  0.8825],\n",
            "        [-3.2832,  5.2189,  1.2163],\n",
            "        [-4.6527,  5.7790,  2.9302],\n",
            "        [-2.9436,  4.8858,  1.0381],\n",
            "        [ 4.5932, -2.2788, -2.8989],\n",
            "        [-4.5797,  5.4566,  3.1690]]) \t 0 \t 29\n",
            "25.) tensor([[-5.8771,  4.4629,  6.5155],\n",
            "        [-7.5451,  4.1668,  9.7293],\n",
            "        [-8.4517,  5.1275, 10.2015],\n",
            "        [-4.3411,  5.6280,  2.5636],\n",
            "        [-7.1838,  4.8757,  8.3024],\n",
            "        [-3.3940,  5.3421,  1.2802],\n",
            "        [-5.9240,  4.9826,  6.0025],\n",
            "        [-4.2895,  5.7016,  2.3920],\n",
            "        [-6.5369,  4.9261,  7.1291],\n",
            "        [-8.0526,  4.4129, 10.3325],\n",
            "        [-5.6775,  4.9505,  5.6248],\n",
            "        [ 4.5748, -2.2579, -2.8925],\n",
            "        [ 4.2646, -2.0055, -2.7342],\n",
            "        [-2.1081,  4.0482,  0.5803],\n",
            "        [ 3.4608, -1.2147, -2.3488],\n",
            "        [-5.4739,  5.1174,  5.0966],\n",
            "        [ 4.0637, -1.8045, -2.6504],\n",
            "        [-5.8090,  4.6057,  6.2494],\n",
            "        [ 4.9250, -2.5763, -3.0545],\n",
            "        [ 3.4559, -1.2559, -2.3637],\n",
            "        [-2.6161,  4.5584,  0.8575],\n",
            "        [-7.7427,  4.7379,  9.4233],\n",
            "        [ 3.5776, -1.3269, -2.4109],\n",
            "        [ 4.5445, -2.2478, -2.8698],\n",
            "        [-2.6548,  4.6138,  0.8825],\n",
            "        [-3.2832,  5.2189,  1.2163],\n",
            "        [-4.6527,  5.7790,  2.9302],\n",
            "        [-2.9436,  4.8858,  1.0381],\n",
            "        [ 4.5932, -2.2788, -2.8989],\n",
            "        [-4.5797,  5.4566,  3.1690]]) \t 1 \t 29\n",
            "26.) tensor([[-5.8771,  4.4629,  6.5155],\n",
            "        [-7.5451,  4.1668,  9.7293],\n",
            "        [-8.4517,  5.1275, 10.2015],\n",
            "        [-4.3411,  5.6280,  2.5636],\n",
            "        [-7.1838,  4.8757,  8.3024],\n",
            "        [-3.3940,  5.3421,  1.2802],\n",
            "        [-5.9240,  4.9826,  6.0025],\n",
            "        [-4.2895,  5.7016,  2.3920],\n",
            "        [-6.5369,  4.9261,  7.1291],\n",
            "        [-8.0526,  4.4129, 10.3325],\n",
            "        [-5.6775,  4.9505,  5.6248],\n",
            "        [ 4.5748, -2.2579, -2.8925],\n",
            "        [ 4.2646, -2.0055, -2.7342],\n",
            "        [-2.1081,  4.0482,  0.5803],\n",
            "        [ 3.4608, -1.2147, -2.3488],\n",
            "        [-5.4739,  5.1174,  5.0966],\n",
            "        [ 4.0637, -1.8045, -2.6504],\n",
            "        [-5.8090,  4.6057,  6.2494],\n",
            "        [ 4.9250, -2.5763, -3.0545],\n",
            "        [ 3.4559, -1.2559, -2.3637],\n",
            "        [-2.6161,  4.5584,  0.8575],\n",
            "        [-7.7427,  4.7379,  9.4233],\n",
            "        [ 3.5776, -1.3269, -2.4109],\n",
            "        [ 4.5445, -2.2478, -2.8698],\n",
            "        [-2.6548,  4.6138,  0.8825],\n",
            "        [-3.2832,  5.2189,  1.2163],\n",
            "        [-4.6527,  5.7790,  2.9302],\n",
            "        [-2.9436,  4.8858,  1.0381],\n",
            "        [ 4.5932, -2.2788, -2.8989],\n",
            "        [-4.5797,  5.4566,  3.1690]]) \t 1 \t 29\n",
            "27.) tensor([[-5.8771,  4.4629,  6.5155],\n",
            "        [-7.5451,  4.1668,  9.7293],\n",
            "        [-8.4517,  5.1275, 10.2015],\n",
            "        [-4.3411,  5.6280,  2.5636],\n",
            "        [-7.1838,  4.8757,  8.3024],\n",
            "        [-3.3940,  5.3421,  1.2802],\n",
            "        [-5.9240,  4.9826,  6.0025],\n",
            "        [-4.2895,  5.7016,  2.3920],\n",
            "        [-6.5369,  4.9261,  7.1291],\n",
            "        [-8.0526,  4.4129, 10.3325],\n",
            "        [-5.6775,  4.9505,  5.6248],\n",
            "        [ 4.5748, -2.2579, -2.8925],\n",
            "        [ 4.2646, -2.0055, -2.7342],\n",
            "        [-2.1081,  4.0482,  0.5803],\n",
            "        [ 3.4608, -1.2147, -2.3488],\n",
            "        [-5.4739,  5.1174,  5.0966],\n",
            "        [ 4.0637, -1.8045, -2.6504],\n",
            "        [-5.8090,  4.6057,  6.2494],\n",
            "        [ 4.9250, -2.5763, -3.0545],\n",
            "        [ 3.4559, -1.2559, -2.3637],\n",
            "        [-2.6161,  4.5584,  0.8575],\n",
            "        [-7.7427,  4.7379,  9.4233],\n",
            "        [ 3.5776, -1.3269, -2.4109],\n",
            "        [ 4.5445, -2.2478, -2.8698],\n",
            "        [-2.6548,  4.6138,  0.8825],\n",
            "        [-3.2832,  5.2189,  1.2163],\n",
            "        [-4.6527,  5.7790,  2.9302],\n",
            "        [-2.9436,  4.8858,  1.0381],\n",
            "        [ 4.5932, -2.2788, -2.8989],\n",
            "        [-4.5797,  5.4566,  3.1690]]) \t 1 \t 29\n",
            "28.) tensor([[-5.8771,  4.4629,  6.5155],\n",
            "        [-7.5451,  4.1668,  9.7293],\n",
            "        [-8.4517,  5.1275, 10.2015],\n",
            "        [-4.3411,  5.6280,  2.5636],\n",
            "        [-7.1838,  4.8757,  8.3024],\n",
            "        [-3.3940,  5.3421,  1.2802],\n",
            "        [-5.9240,  4.9826,  6.0025],\n",
            "        [-4.2895,  5.7016,  2.3920],\n",
            "        [-6.5369,  4.9261,  7.1291],\n",
            "        [-8.0526,  4.4129, 10.3325],\n",
            "        [-5.6775,  4.9505,  5.6248],\n",
            "        [ 4.5748, -2.2579, -2.8925],\n",
            "        [ 4.2646, -2.0055, -2.7342],\n",
            "        [-2.1081,  4.0482,  0.5803],\n",
            "        [ 3.4608, -1.2147, -2.3488],\n",
            "        [-5.4739,  5.1174,  5.0966],\n",
            "        [ 4.0637, -1.8045, -2.6504],\n",
            "        [-5.8090,  4.6057,  6.2494],\n",
            "        [ 4.9250, -2.5763, -3.0545],\n",
            "        [ 3.4559, -1.2559, -2.3637],\n",
            "        [-2.6161,  4.5584,  0.8575],\n",
            "        [-7.7427,  4.7379,  9.4233],\n",
            "        [ 3.5776, -1.3269, -2.4109],\n",
            "        [ 4.5445, -2.2478, -2.8698],\n",
            "        [-2.6548,  4.6138,  0.8825],\n",
            "        [-3.2832,  5.2189,  1.2163],\n",
            "        [-4.6527,  5.7790,  2.9302],\n",
            "        [-2.9436,  4.8858,  1.0381],\n",
            "        [ 4.5932, -2.2788, -2.8989],\n",
            "        [-4.5797,  5.4566,  3.1690]]) \t 1 \t 29\n",
            "29.) tensor([[-5.8771,  4.4629,  6.5155],\n",
            "        [-7.5451,  4.1668,  9.7293],\n",
            "        [-8.4517,  5.1275, 10.2015],\n",
            "        [-4.3411,  5.6280,  2.5636],\n",
            "        [-7.1838,  4.8757,  8.3024],\n",
            "        [-3.3940,  5.3421,  1.2802],\n",
            "        [-5.9240,  4.9826,  6.0025],\n",
            "        [-4.2895,  5.7016,  2.3920],\n",
            "        [-6.5369,  4.9261,  7.1291],\n",
            "        [-8.0526,  4.4129, 10.3325],\n",
            "        [-5.6775,  4.9505,  5.6248],\n",
            "        [ 4.5748, -2.2579, -2.8925],\n",
            "        [ 4.2646, -2.0055, -2.7342],\n",
            "        [-2.1081,  4.0482,  0.5803],\n",
            "        [ 3.4608, -1.2147, -2.3488],\n",
            "        [-5.4739,  5.1174,  5.0966],\n",
            "        [ 4.0637, -1.8045, -2.6504],\n",
            "        [-5.8090,  4.6057,  6.2494],\n",
            "        [ 4.9250, -2.5763, -3.0545],\n",
            "        [ 3.4559, -1.2559, -2.3637],\n",
            "        [-2.6161,  4.5584,  0.8575],\n",
            "        [-7.7427,  4.7379,  9.4233],\n",
            "        [ 3.5776, -1.3269, -2.4109],\n",
            "        [ 4.5445, -2.2478, -2.8698],\n",
            "        [-2.6548,  4.6138,  0.8825],\n",
            "        [-3.2832,  5.2189,  1.2163],\n",
            "        [-4.6527,  5.7790,  2.9302],\n",
            "        [-2.9436,  4.8858,  1.0381],\n",
            "        [ 4.5932, -2.2788, -2.8989],\n",
            "        [-4.5797,  5.4566,  3.1690]]) \t 0 \t 29\n",
            "30.) tensor([[-5.8771,  4.4629,  6.5155],\n",
            "        [-7.5451,  4.1668,  9.7293],\n",
            "        [-8.4517,  5.1275, 10.2015],\n",
            "        [-4.3411,  5.6280,  2.5636],\n",
            "        [-7.1838,  4.8757,  8.3024],\n",
            "        [-3.3940,  5.3421,  1.2802],\n",
            "        [-5.9240,  4.9826,  6.0025],\n",
            "        [-4.2895,  5.7016,  2.3920],\n",
            "        [-6.5369,  4.9261,  7.1291],\n",
            "        [-8.0526,  4.4129, 10.3325],\n",
            "        [-5.6775,  4.9505,  5.6248],\n",
            "        [ 4.5748, -2.2579, -2.8925],\n",
            "        [ 4.2646, -2.0055, -2.7342],\n",
            "        [-2.1081,  4.0482,  0.5803],\n",
            "        [ 3.4608, -1.2147, -2.3488],\n",
            "        [-5.4739,  5.1174,  5.0966],\n",
            "        [ 4.0637, -1.8045, -2.6504],\n",
            "        [-5.8090,  4.6057,  6.2494],\n",
            "        [ 4.9250, -2.5763, -3.0545],\n",
            "        [ 3.4559, -1.2559, -2.3637],\n",
            "        [-2.6161,  4.5584,  0.8575],\n",
            "        [-7.7427,  4.7379,  9.4233],\n",
            "        [ 3.5776, -1.3269, -2.4109],\n",
            "        [ 4.5445, -2.2478, -2.8698],\n",
            "        [-2.6548,  4.6138,  0.8825],\n",
            "        [-3.2832,  5.2189,  1.2163],\n",
            "        [-4.6527,  5.7790,  2.9302],\n",
            "        [-2.9436,  4.8858,  1.0381],\n",
            "        [ 4.5932, -2.2788, -2.8989],\n",
            "        [-4.5797,  5.4566,  3.1690]]) \t 1 \t 29\n",
            "We got 0 correct!\n"
          ]
        }
      ]
    },
    {
      "cell_type": "markdown",
      "source": [
        "### Evaluate New data on the Network"
      ],
      "metadata": {
        "id": "H_DErA7FBev8"
      }
    },
    {
      "cell_type": "code",
      "source": [
        "new_iris = torch.tensor([5.9,3.0,5.3,1.8])"
      ],
      "metadata": {
        "id": "xo5eQ8-Ow5GD"
      },
      "execution_count": 19,
      "outputs": []
    },
    {
      "cell_type": "code",
      "source": [
        "with torch.no_grad():\n",
        "  print(model(new_iris))\n"
      ],
      "metadata": {
        "id": "AXMGd-Y9XJ99",
        "colab": {
          "base_uri": "https://localhost:8080/"
        },
        "outputId": "6f80a9c6-c789-49e2-ab37-82c027dd832d"
      },
      "execution_count": 20,
      "outputs": [
        {
          "output_type": "stream",
          "name": "stdout",
          "text": [
            "tensor([-6.2973,  4.3005,  7.4432])\n"
          ]
        }
      ]
    },
    {
      "cell_type": "markdown",
      "source": [
        "### Save and Load our Neural network model!"
      ],
      "metadata": {
        "id": "GHSopL6odf5b"
      }
    },
    {
      "cell_type": "code",
      "source": [
        "#This will save all our weights and biases in our model into a dictionary and save\n",
        "#make sure to save it as .pt\n",
        "torch.save(model.state_dict(), 'iris_model.pt')"
      ],
      "metadata": {
        "id": "CQd_ecoTdWAN"
      },
      "execution_count": 21,
      "outputs": []
    },
    {
      "cell_type": "code",
      "source": [
        "# Load the saved model\n",
        "new_model = Model()\n",
        "#now lets load in all weights and biases\n",
        "new_model.load_state_dict(torch.load('iris_model.pt'))"
      ],
      "metadata": {
        "colab": {
          "base_uri": "https://localhost:8080/"
        },
        "id": "PxvtzkTHiQ0m",
        "outputId": "d6c200f2-c9ce-4dcc-d5be-75556558de80"
      },
      "execution_count": 22,
      "outputs": [
        {
          "output_type": "execute_result",
          "data": {
            "text/plain": [
              "<All keys matched successfully>"
            ]
          },
          "metadata": {},
          "execution_count": 22
        }
      ]
    },
    {
      "cell_type": "code",
      "source": [
        "# Make sure it is loaded correctly\n",
        "new_model.eval()"
      ],
      "metadata": {
        "colab": {
          "base_uri": "https://localhost:8080/"
        },
        "id": "LnzS8MEiinwU",
        "outputId": "7b1e41e0-406b-4e7c-f216-a171ca67574e"
      },
      "execution_count": 23,
      "outputs": [
        {
          "output_type": "execute_result",
          "data": {
            "text/plain": [
              "Model(\n",
              "  (fc1): Linear(in_features=4, out_features=8, bias=True)\n",
              "  (fc2): Linear(in_features=8, out_features=9, bias=True)\n",
              "  (out): Linear(in_features=9, out_features=3, bias=True)\n",
              ")"
            ]
          },
          "metadata": {},
          "execution_count": 23
        }
      ]
    },
    {
      "cell_type": "markdown",
      "source": [
        "## Convolution Neural Network\n",
        "- We'll use the MNIST dataset"
      ],
      "metadata": {
        "id": "FKRPQf3AjNey"
      }
    },
    {
      "cell_type": "code",
      "source": [
        "import torch\n",
        "import torch.nn as nn\n",
        "import torch.nn.functional as F\n",
        "from torch.utils.data import DataLoader\n",
        "from torchvision import datasets, transforms\n",
        "from torchvision.utils import make_grid\n",
        "\n",
        "import numpy as np\n",
        "import pandas as pd\n",
        "from sklearn.metrics import confusion_matrix\n",
        "import matplotlib.pyplot as plt\n",
        "%matplotlib inline"
      ],
      "metadata": {
        "id": "Ppv-nZ4Wi5ZQ"
      },
      "execution_count": 53,
      "outputs": []
    },
    {
      "cell_type": "code",
      "source": [
        "# Convert MNIST Image files into a Tensor of 4Dimensions (No. of images, height, width, color channels)\n",
        "\n",
        "transform = transforms.ToTensor()"
      ],
      "metadata": {
        "id": "2ENtiUTR-3oR"
      },
      "execution_count": 54,
      "outputs": []
    },
    {
      "cell_type": "code",
      "source": [
        "# Train Data\n",
        "train_data = datasets.MNIST(root = '/cnn_data', train = True, download=True, transform = transform)\n"
      ],
      "metadata": {
        "id": "mzQjX55vD2kP"
      },
      "execution_count": 55,
      "outputs": []
    },
    {
      "cell_type": "code",
      "source": [
        "# Test Data\n",
        "test_data = datasets.MNIST(root = '/cnn_data', train = False, download=True, transform = transform)\n"
      ],
      "metadata": {
        "id": "wpulF_zoEM_o"
      },
      "execution_count": 56,
      "outputs": []
    },
    {
      "cell_type": "code",
      "source": [
        "train_data"
      ],
      "metadata": {
        "colab": {
          "base_uri": "https://localhost:8080/"
        },
        "id": "E-GK7FtHEdVN",
        "outputId": "293857f4-c2a1-4f37-bbfe-7d7dcf09e845"
      },
      "execution_count": 57,
      "outputs": [
        {
          "output_type": "execute_result",
          "data": {
            "text/plain": [
              "Dataset MNIST\n",
              "    Number of datapoints: 60000\n",
              "    Root location: /cnn_data\n",
              "    Split: Train\n",
              "    StandardTransform\n",
              "Transform: ToTensor()"
            ]
          },
          "metadata": {},
          "execution_count": 57
        }
      ]
    },
    {
      "cell_type": "code",
      "source": [
        "test_data"
      ],
      "metadata": {
        "colab": {
          "base_uri": "https://localhost:8080/"
        },
        "id": "BXzuHYjCE0EU",
        "outputId": "2bb754ee-e6d1-451f-f0f0-cddc2c5a65d6"
      },
      "execution_count": 58,
      "outputs": [
        {
          "output_type": "execute_result",
          "data": {
            "text/plain": [
              "Dataset MNIST\n",
              "    Number of datapoints: 10000\n",
              "    Root location: /cnn_data\n",
              "    Split: Test\n",
              "    StandardTransform\n",
              "Transform: ToTensor()"
            ]
          },
          "metadata": {},
          "execution_count": 58
        }
      ]
    },
    {
      "cell_type": "code",
      "source": [
        "# Create a small batch size for images... let's say 10\n",
        "train_loader = DataLoader(train_data, batch_size=10, shuffle=True)\n",
        "test_loader = DataLoader(test_data, batch_size=10, shuffle=False)"
      ],
      "metadata": {
        "id": "OmwWlVfuF9xD"
      },
      "execution_count": 59,
      "outputs": []
    },
    {
      "cell_type": "code",
      "source": [
        "#Define our CNN model\n",
        "#Desribe convolutional layer and what its doing(2 convolution layers)\n",
        "conv1 = nn.Conv2d(1, 6, 3, 1)\n",
        "conv2 = nn.Conv2d(6, 16, 3, 1)\n"
      ],
      "metadata": {
        "id": "VvVQ6BBIbq89"
      },
      "execution_count": 60,
      "outputs": []
    },
    {
      "cell_type": "code",
      "source": [
        "#Grab 1 MNIST record\n",
        "for i, (X_train, y_train) in enumerate(train_data):\n",
        "  break\n",
        "\n",
        "X_train.shape"
      ],
      "metadata": {
        "colab": {
          "base_uri": "https://localhost:8080/"
        },
        "id": "ZEZmJY0HcVak",
        "outputId": "fdf68598-00cf-484f-b7a2-11e8c7cd2e0f"
      },
      "execution_count": 61,
      "outputs": [
        {
          "output_type": "execute_result",
          "data": {
            "text/plain": [
              "torch.Size([1, 28, 28])"
            ]
          },
          "metadata": {},
          "execution_count": 61
        }
      ]
    },
    {
      "cell_type": "code",
      "source": [
        "X = X_train.view(1,1,28,28)"
      ],
      "metadata": {
        "id": "nZuzRsmJchX9"
      },
      "execution_count": 62,
      "outputs": []
    },
    {
      "cell_type": "code",
      "source": [
        "#Perform our first COnvolution\n",
        "X = F.relu(conv1(X)) # Rectified Linear Unit for our activation function"
      ],
      "metadata": {
        "id": "83W2T-qscpzs"
      },
      "execution_count": 63,
      "outputs": []
    },
    {
      "cell_type": "code",
      "source": [
        "# 1 single image, 6 is the filters we asked for, 26*26 because of padding it shrinks the columns and rows that has give no useful information\n",
        "X.shape"
      ],
      "metadata": {
        "colab": {
          "base_uri": "https://localhost:8080/"
        },
        "id": "qNdEKCmUc7br",
        "outputId": "714f3f94-275f-401b-9cdd-3931920fe15e"
      },
      "execution_count": 64,
      "outputs": [
        {
          "output_type": "execute_result",
          "data": {
            "text/plain": [
              "torch.Size([1, 6, 26, 26])"
            ]
          },
          "metadata": {},
          "execution_count": 64
        }
      ]
    },
    {
      "cell_type": "code",
      "source": [
        "# pass thru the pooling layer\n",
        "x = F.max_pool2d(X,2,2) # kernal of 2 and stride of 2"
      ],
      "metadata": {
        "id": "KZ1yvPradC57"
      },
      "execution_count": 65,
      "outputs": []
    },
    {
      "cell_type": "code",
      "source": [
        "x.shape # 26/2"
      ],
      "metadata": {
        "colab": {
          "base_uri": "https://localhost:8080/"
        },
        "id": "fzxXOje4gpae",
        "outputId": "66941ae9-229e-4430-eebe-b3e3ce624a35"
      },
      "execution_count": 66,
      "outputs": [
        {
          "output_type": "execute_result",
          "data": {
            "text/plain": [
              "torch.Size([1, 6, 13, 13])"
            ]
          },
          "metadata": {},
          "execution_count": 66
        }
      ]
    },
    {
      "cell_type": "code",
      "source": [
        "# Our second convolutional layer\n",
        "x = F.relu(conv2(x))"
      ],
      "metadata": {
        "id": "z_-9rHlWgrUl"
      },
      "execution_count": 67,
      "outputs": []
    },
    {
      "cell_type": "code",
      "source": [
        "x.shape # Again, we didnt set padding so we lose 2 pixles aroung the outside of the image"
      ],
      "metadata": {
        "colab": {
          "base_uri": "https://localhost:8080/"
        },
        "id": "TwZpKvzihHDz",
        "outputId": "cc1a95a9-85ca-465f-d9a4-c4fd3e07aec8"
      },
      "execution_count": 68,
      "outputs": [
        {
          "output_type": "execute_result",
          "data": {
            "text/plain": [
              "torch.Size([1, 16, 11, 11])"
            ]
          },
          "metadata": {},
          "execution_count": 68
        }
      ]
    },
    {
      "cell_type": "code",
      "source": [
        "# Pooling layer\n",
        "x = F.max_pool2d(x,2,2)"
      ],
      "metadata": {
        "id": "wDOW5fTahKPP"
      },
      "execution_count": 69,
      "outputs": []
    },
    {
      "cell_type": "code",
      "source": [
        "# 11/2  = 5.5 but we have to round down, beacuse we can't invent data to round up\n",
        "x.shape"
      ],
      "metadata": {
        "colab": {
          "base_uri": "https://localhost:8080/"
        },
        "id": "X15_A7x0hapH",
        "outputId": "f4dab0cc-44a9-4739-8fd4-0ad58880fcc2"
      },
      "execution_count": 70,
      "outputs": [
        {
          "output_type": "execute_result",
          "data": {
            "text/plain": [
              "torch.Size([1, 16, 5, 5])"
            ]
          },
          "metadata": {},
          "execution_count": 70
        }
      ]
    },
    {
      "cell_type": "markdown",
      "source": [
        "### Here's the real deal!"
      ],
      "metadata": {
        "id": "WJGlj0UEh-zZ"
      }
    },
    {
      "cell_type": "code",
      "source": [
        "# Model  Class\n",
        "class ConvolutionalNetwork(nn.Module):\n",
        "  def __init__(self):\n",
        "    super().__init__()\n",
        "    self.conv1 = nn.Conv2d(1, 6, 3, 1)\n",
        "    self.conv2 = nn.Conv2d(6, 16, 3, 1)\n",
        "    # Fully connected layer\n",
        "    self.fc1 = nn.Linear(5*5*16, 120)\n",
        "    self.fc2 = nn.Linear(120, 84)\n",
        "    self.fc3 = nn.Linear(84, 10)\n",
        "\n",
        "  def forward(self, X):\n",
        "    X = F.relu(self.conv1(X))\n",
        "    X = F.max_pool2d(X, 2, 2) # 2x2 kernal and stride 2\n",
        "\n",
        "    #Second Pass\n",
        "    X = F.relu(self.conv2(X))\n",
        "    X = F.max_pool2d(X, 2, 2) # 2x2 kernal and stride 2\n",
        "\n",
        "    # Re-view to flatten it out\n",
        "    X = X.view(-1, 16*5*5) # negative one so that we can vary the batch size\n",
        "\n",
        "    #Fully Connected Layers\n",
        "    X = F.relu(self.fc1(X))\n",
        "    X = F.relu(self.fc2(X))\n",
        "    X = self.fc3(X)\n",
        "    return F.log_softmax(X, dim=1)\n"
      ],
      "metadata": {
        "id": "UZSzTBDLhc4i"
      },
      "execution_count": 76,
      "outputs": []
    },
    {
      "cell_type": "code",
      "source": [
        "# Create an Instance of our Model\n",
        "torch.manual_seed(41)\n",
        "model = ConvolutionalNetwork()\n",
        "model\n"
      ],
      "metadata": {
        "colab": {
          "base_uri": "https://localhost:8080/"
        },
        "id": "9F1M1QymoieW",
        "outputId": "44e9ec71-4028-4def-cb2f-8cf5e31e93e0"
      },
      "execution_count": 77,
      "outputs": [
        {
          "output_type": "execute_result",
          "data": {
            "text/plain": [
              "ConvolutionalNetwork(\n",
              "  (conv1): Conv2d(1, 6, kernel_size=(3, 3), stride=(1, 1))\n",
              "  (conv2): Conv2d(6, 16, kernel_size=(3, 3), stride=(1, 1))\n",
              "  (fc1): Linear(in_features=400, out_features=120, bias=True)\n",
              "  (fc2): Linear(in_features=120, out_features=84, bias=True)\n",
              "  (fc3): Linear(in_features=84, out_features=10, bias=True)\n",
              ")"
            ]
          },
          "metadata": {},
          "execution_count": 77
        }
      ]
    },
    {
      "cell_type": "code",
      "source": [
        "# Loss FUnction optimizer\n",
        "criterion = nn.CrossEntropyLoss()\n",
        "optimizer = torch.optim.Adam(model.parameters(), lr = 0.001) # Smaller the learning rate, longer its gonna take to train\n"
      ],
      "metadata": {
        "id": "w5ZRCYokospz"
      },
      "execution_count": 78,
      "outputs": []
    },
    {
      "cell_type": "code",
      "source": [
        "import time\n",
        "start_time = time.time()\n",
        "\n",
        "# create variables to track things... not necessary but what the hell...\n",
        "epochs = 5\n",
        "train_losses=[]\n",
        "test_losses=[]\n",
        "train_correct=[]\n",
        "test_correct=[]\n",
        "\n",
        "# For Loop of Epochs\n",
        "for i in range(epochs):\n",
        "  trn_corr = 0\n",
        "  tst_corr = 0\n",
        "\n",
        "  # Train\n",
        "  for b,(X_train, y_train) in enumerate(train_loader):\n",
        "    b+=1 # start our batches at 1\n",
        "    y_pred = model(X_train) # get predicted values from the training set. Not flattend 2D\n",
        "    loss = criterion(y_pred, y_train) # compare the prediction to the correct answers in the train\n",
        "\n",
        "    predicted = torch.max(y_pred.data, 1)[1] # add up the number of correct predictions\n",
        "    batch_corr = (predicted == y_train).sum() # how many we for correct fom this batch. True=1, False=0 sum those up\n",
        "    trn_corr+=batch_corr # keep track as we go along in training\n",
        "\n",
        "    # Update our parameters\n",
        "    optimizer.zero_grad()\n",
        "    loss.backward()\n",
        "    optimizer.step()\n",
        "\n",
        "    # Print out some results\n",
        "    if b % 600 == 0:\n",
        "      print(f'Epoch: {i}  Batch: {b}  Loss: {loss.item()}')\n",
        "\n",
        "  train_losses.append(loss)\n",
        "  train_correct.append(trn_corr)\n",
        "\n",
        "  # Test\n",
        "  with torch.no_grad(): # No gradient so we dont update our weights and biases with test\n",
        "    for b,(X_test, y_test) in enumerate(test_loader):\n",
        "      y_val = model(X_test)\n",
        "      predicted = torch.max(y_val.data, 1)[1] # Adding up correct predictions\n",
        "      tst_corr += (predicted == y_test).sum() # T=1 F=0 and sum\n",
        "\n",
        "  loss = criterion(y_val, y_test)\n",
        "  test_losses.append(loss)\n",
        "  test_correct.append(tst_corr)\n",
        "\n",
        "\n",
        "current_time = time.time()\n",
        "total = current_time - start_time\n",
        "print(f'Training Took: {total/60} minutes!')"
      ],
      "metadata": {
        "colab": {
          "base_uri": "https://localhost:8080/"
        },
        "id": "acGZS8RjpRBD",
        "outputId": "ac39aa67-07d8-4c28-e20b-7004f4d5f6db"
      },
      "execution_count": 79,
      "outputs": [
        {
          "output_type": "stream",
          "name": "stdout",
          "text": [
            "Epoch: 0  Batch: 600  Loss: 0.1623610556125641\n",
            "Epoch: 0  Batch: 1200  Loss: 0.1502392590045929\n",
            "Epoch: 0  Batch: 1800  Loss: 0.4744560718536377\n",
            "Epoch: 0  Batch: 2400  Loss: 0.14238706231117249\n",
            "Epoch: 0  Batch: 3000  Loss: 0.007758188061416149\n",
            "Epoch: 0  Batch: 3600  Loss: 0.3836284875869751\n",
            "Epoch: 0  Batch: 4200  Loss: 0.0038223876617848873\n",
            "Epoch: 0  Batch: 4800  Loss: 0.0021286322735249996\n",
            "Epoch: 0  Batch: 5400  Loss: 0.0569545142352581\n",
            "Epoch: 0  Batch: 6000  Loss: 0.00038789428072050214\n",
            "Epoch: 1  Batch: 600  Loss: 0.005851339548826218\n",
            "Epoch: 1  Batch: 1200  Loss: 0.3855525553226471\n",
            "Epoch: 1  Batch: 1800  Loss: 0.004819948226213455\n",
            "Epoch: 1  Batch: 2400  Loss: 0.003216963727027178\n",
            "Epoch: 1  Batch: 3000  Loss: 0.0332382395863533\n",
            "Epoch: 1  Batch: 3600  Loss: 0.5372857451438904\n",
            "Epoch: 1  Batch: 4200  Loss: 0.04561494290828705\n",
            "Epoch: 1  Batch: 4800  Loss: 0.0007510822033509612\n",
            "Epoch: 1  Batch: 5400  Loss: 0.0001173773780465126\n",
            "Epoch: 1  Batch: 6000  Loss: 0.14201366901397705\n",
            "Epoch: 2  Batch: 600  Loss: 0.023733172565698624\n",
            "Epoch: 2  Batch: 1200  Loss: 0.003455493599176407\n",
            "Epoch: 2  Batch: 1800  Loss: 0.0008372392621822655\n",
            "Epoch: 2  Batch: 2400  Loss: 0.010705141350626945\n",
            "Epoch: 2  Batch: 3000  Loss: 0.008078320883214474\n",
            "Epoch: 2  Batch: 3600  Loss: 0.0011862406972795725\n",
            "Epoch: 2  Batch: 4200  Loss: 0.038080841302871704\n",
            "Epoch: 2  Batch: 4800  Loss: 0.0016068397089838982\n",
            "Epoch: 2  Batch: 5400  Loss: 0.138673797249794\n",
            "Epoch: 2  Batch: 6000  Loss: 0.2449204921722412\n",
            "Epoch: 3  Batch: 600  Loss: 0.007151054684072733\n",
            "Epoch: 3  Batch: 1200  Loss: 0.011097034439444542\n",
            "Epoch: 3  Batch: 1800  Loss: 0.0017998721450567245\n",
            "Epoch: 3  Batch: 2400  Loss: 0.0001049584461725317\n",
            "Epoch: 3  Batch: 3000  Loss: 0.0031431831885129213\n",
            "Epoch: 3  Batch: 3600  Loss: 0.003668801160529256\n",
            "Epoch: 3  Batch: 4200  Loss: 0.0037249946035444736\n",
            "Epoch: 3  Batch: 4800  Loss: 0.00015864608576521277\n",
            "Epoch: 3  Batch: 5400  Loss: 0.0796482041478157\n",
            "Epoch: 3  Batch: 6000  Loss: 0.0808732658624649\n",
            "Epoch: 4  Batch: 600  Loss: 0.014099588617682457\n",
            "Epoch: 4  Batch: 1200  Loss: 0.0382874570786953\n",
            "Epoch: 4  Batch: 1800  Loss: 0.16302265226840973\n",
            "Epoch: 4  Batch: 2400  Loss: 0.02186887338757515\n",
            "Epoch: 4  Batch: 3000  Loss: 0.0024396399967372417\n",
            "Epoch: 4  Batch: 3600  Loss: 0.0013979513896629214\n",
            "Epoch: 4  Batch: 4200  Loss: 0.000989563181065023\n",
            "Epoch: 4  Batch: 4800  Loss: 0.010317974723875523\n",
            "Epoch: 4  Batch: 5400  Loss: 0.16506639122962952\n",
            "Epoch: 4  Batch: 6000  Loss: 0.0027098222635686398\n",
            "Training Took: 4.14963014125824 minutes!\n"
          ]
        }
      ]
    },
    {
      "cell_type": "code",
      "source": [
        "# Graph the loss at epochs\n",
        "train_losses = [tl.item()  for tl in train_losses]\n",
        "plt.plot(train_losses, label=\"Training Loss\")\n",
        "plt.plot(test_losses, label=\"Validation Loss\")\n",
        "plt.title(\"Loss at Epoch\")\n",
        "plt.legend()"
      ],
      "metadata": {
        "colab": {
          "base_uri": "https://localhost:8080/",
          "height": 469
        },
        "id": "NpoQH1APCRfx",
        "outputId": "09dae914-d851-4ea8-fe68-a01ac3a457e1"
      },
      "execution_count": 81,
      "outputs": [
        {
          "output_type": "execute_result",
          "data": {
            "text/plain": [
              "<matplotlib.legend.Legend at 0x7d48fc299540>"
            ]
          },
          "metadata": {},
          "execution_count": 81
        },
        {
          "output_type": "display_data",
          "data": {
            "text/plain": [
              "<Figure size 640x480 with 1 Axes>"
            ],
            "image/png": "[encoded data removed]"
          },
          "metadata": {}
        }
      ]
    },
    {
      "cell_type": "code",
      "source": [
        "# Graph the accuracy at the end of each epoch\n",
        "plt.plot([t/600 for t in train_correct], label = 'Training Accuracy')\n",
        "plt.plot([t/100 for t in test_correct], label = 'Validation Accuracy')\n",
        "plt.title(\"Accuracy at the end of each Epoch\")\n",
        "plt.legend()"
      ],
      "metadata": {
        "colab": {
          "base_uri": "https://localhost:8080/",
          "height": 469
        },
        "id": "a-TSbAolDDi8",
        "outputId": "0572a01c-1026-4c28-86db-da50f3243164"
      },
      "execution_count": 83,
      "outputs": [
        {
          "output_type": "execute_result",
          "data": {
            "text/plain": [
              "<matplotlib.legend.Legend at 0x7d48fcfb25c0>"
            ]
          },
          "metadata": {},
          "execution_count": 83
        },
        {
          "output_type": "display_data",
          "data": {
            "text/plain": [
              "<Figure size 640x480 with 1 Axes>"
            ],
            "image/png": "[encoded data removed]"
          },
          "metadata": {}
        }
      ]
    },
    {
      "cell_type": "code",
      "source": [
        "test_load_everything = DataLoader(test_data, batch_size=10000, shuffle=False)"
      ],
      "metadata": {
        "id": "ZIv7Fa3UDyRC"
      },
      "execution_count": 84,
      "outputs": []
    },
    {
      "cell_type": "code",
      "source": [
        "with torch.no_grad():\n",
        "  correct = 0\n",
        "  for X_test, y_test in test_load_everything:\n",
        "    y_val = model(X_test)\n",
        "    predicted = torch.max(y_val, 1)[1]\n",
        "    correct += (predicted == y_test).sum()"
      ],
      "metadata": {
        "id": "6y8wNXB6EBMP"
      },
      "execution_count": 85,
      "outputs": []
    },
    {
      "cell_type": "code",
      "source": [
        "# Did for correct\n",
        "correct.item()/len(test_data)*100"
      ],
      "metadata": {
        "colab": {
          "base_uri": "https://localhost:8080/"
        },
        "id": "9P75m_BVEcGo",
        "outputId": "849eaf89-2569-427d-9c02-ba76feca1a56"
      },
      "execution_count": 88,
      "outputs": [
        {
          "output_type": "execute_result",
          "data": {
            "text/plain": [
              "98.57000000000001"
            ]
          },
          "metadata": {},
          "execution_count": 88
        }
      ]
    },
    {
      "cell_type": "markdown",
      "source": [
        "#### If you want to try out an image with the given cnn"
      ],
      "metadata": {
        "id": "_sJn27XiHaCp"
      }
    },
    {
      "cell_type": "code",
      "source": [
        "# Grab an Image\n",
        "test_data[4128]"
      ],
      "metadata": {
        "colab": {
          "base_uri": "https://localhost:8080/"
        },
        "id": "cRm1VmX2Ehpi",
        "outputId": "de774655-c694-45c6-bd87-cf7c075980ee"
      },
      "execution_count": 90,
      "outputs": [
        {
          "output_type": "execute_result",
          "data": {
            "text/plain": [
              "(tensor([[[0.0000, 0.0000, 0.0000, 0.0000, 0.0000, 0.0000, 0.0000, 0.0000,\n",
              "           0.0000, 0.0000, 0.0000, 0.0000, 0.0000, 0.0000, 0.0000, 0.0000,\n",
              "           0.0000, 0.0000, 0.0000, 0.0000, 0.0000, 0.0000, 0.0000, 0.0000,\n",
              "           0.0000, 0.0000, 0.0000, 0.0000],\n",
              "          [0.0000, 0.0000, 0.0000, 0.0000, 0.0000, 0.0000, 0.0000, 0.0000,\n",
              "           0.0000, 0.0000, 0.0000, 0.0000, 0.0000, 0.0000, 0.0000, 0.0000,\n",
              "           0.0000, 0.0000, 0.0000, 0.0000, 0.0000, 0.0000, 0.0000, 0.0000,\n",
              "           0.0000, 0.0000, 0.0000, 0.0000],\n",
              "          [0.0000, 0.0000, 0.0000, 0.0000, 0.0000, 0.0000, 0.0000, 0.0000,\n",
              "           0.0000, 0.0000, 0.0000, 0.0000, 0.0000, 0.0000, 0.0000, 0.0000,\n",
              "           0.0000, 0.0000, 0.0000, 0.0000, 0.0000, 0.0000, 0.0000, 0.0000,\n",
              "           0.0000, 0.0000, 0.0000, 0.0000],\n",
              "          [0.0000, 0.0000, 0.0000, 0.0000, 0.0000, 0.0000, 0.0000, 0.0000,\n",
              "           0.0000, 0.0000, 0.0000, 0.0000, 0.0000, 0.0000, 0.0000, 0.0000,\n",
              "           0.0000, 0.0000, 0.0000, 0.0000, 0.0000, 0.0000, 0.0000, 0.0000,\n",
              "           0.0000, 0.0000, 0.0000, 0.0000],\n",
              "          [0.0000, 0.0000, 0.0000, 0.0000, 0.0000, 0.0000, 0.0000, 0.0000,\n",
              "           0.0000, 0.0000, 0.0000, 0.0000, 0.0000, 0.0000, 0.0000, 0.0000,\n",
              "           0.0000, 0.0000, 0.0000, 0.0000, 0.0000, 0.0000, 0.0000, 0.0000,\n",
              "           0.0000, 0.0000, 0.0000, 0.0000],\n",
              "          [0.0000, 0.0000, 0.0000, 0.0000, 0.0000, 0.0000, 0.0000, 0.0000,\n",
              "           0.0000, 0.0000, 0.0000, 0.0118, 0.3176, 0.6824, 1.0000, 0.9961,\n",
              "           0.9961, 0.7216, 0.1608, 0.0000, 0.0000, 0.0000, 0.0000, 0.0000,\n",
              "           0.0000, 0.0000, 0.0000, 0.0000],\n",
              "          [0.0000, 0.0000, 0.0000, 0.0000, 0.0000, 0.0000, 0.0000, 0.0000,\n",
              "           0.0000, 0.0000, 0.2314, 0.7922, 0.9922, 0.9137, 0.8706, 0.7294,\n",
              "           0.8118, 0.9922, 0.3725, 0.0000, 0.0000, 0.0000, 0.0000, 0.0000,\n",
              "           0.0000, 0.0000, 0.0000, 0.0000],\n",
              "          [0.0000, 0.0000, 0.0000, 0.0000, 0.0000, 0.0000, 0.0000, 0.0000,\n",
              "           0.0000, 0.0902, 0.8118, 0.9569, 0.5490, 0.0706, 0.0000, 0.1216,\n",
              "           0.9020, 0.9922, 0.2157, 0.0000, 0.0000, 0.0000, 0.0000, 0.0000,\n",
              "           0.0000, 0.0000, 0.0000, 0.0000],\n",
              "          [0.0000, 0.0000, 0.0000, 0.0000, 0.0000, 0.0000, 0.0000, 0.0000,\n",
              "           0.0000, 0.8196, 0.9922, 0.4588, 0.0000, 0.0000, 0.0157, 0.6706,\n",
              "           0.9922, 0.5961, 0.0078, 0.0000, 0.0000, 0.0000, 0.0000, 0.0000,\n",
              "           0.0000, 0.0000, 0.0000, 0.0000],\n",
              "          [0.0000, 0.0000, 0.0000, 0.0000, 0.0000, 0.0000, 0.0000, 0.0000,\n",
              "           0.0980, 0.9961, 0.7765, 0.0118, 0.0000, 0.0000, 0.6471, 0.9922,\n",
              "           0.9333, 0.2000, 0.0000, 0.0000, 0.0000, 0.0000, 0.0000, 0.0000,\n",
              "           0.0000, 0.0000, 0.0000, 0.0000],\n",
              "          [0.0000, 0.0000, 0.0000, 0.0000, 0.0000, 0.0000, 0.0000, 0.0000,\n",
              "           0.8392, 0.9373, 0.0784, 0.0000, 0.0157, 0.6471, 1.0000, 0.9882,\n",
              "           0.3686, 0.0000, 0.0000, 0.0000, 0.0000, 0.0000, 0.0000, 0.0000,\n",
              "           0.0000, 0.0000, 0.0000, 0.0000],\n",
              "          [0.0000, 0.0000, 0.0000, 0.0000, 0.0000, 0.0000, 0.0000, 0.0000,\n",
              "           0.8941, 0.3529, 0.0000, 0.0000, 0.2510, 0.9922, 0.9961, 0.5922,\n",
              "           0.0000, 0.0000, 0.0000, 0.0000, 0.0000, 0.0000, 0.0000, 0.0000,\n",
              "           0.0000, 0.0000, 0.0000, 0.0000],\n",
              "          [0.0000, 0.0000, 0.0000, 0.0000, 0.0000, 0.0000, 0.0000, 0.0000,\n",
              "           0.1176, 0.0000, 0.0000, 0.0000, 0.0471, 0.7294, 0.9961, 0.6784,\n",
              "           0.0941, 0.0000, 0.0000, 0.0000, 0.0000, 0.0000, 0.0000, 0.0000,\n",
              "           0.0000, 0.0000, 0.0000, 0.0000],\n",
              "          [0.0000, 0.0000, 0.0000, 0.0000, 0.0000, 0.0000, 0.0000, 0.0000,\n",
              "           0.0000, 0.0000, 0.0000, 0.0000, 0.0000, 0.0392, 0.2392, 0.6667,\n",
              "           0.8863, 0.4235, 0.0941, 0.0000, 0.0000, 0.0000, 0.0000, 0.0000,\n",
              "           0.0000, 0.0000, 0.0000, 0.0000],\n",
              "          [0.0000, 0.0000, 0.0000, 0.0000, 0.0000, 0.0000, 0.0000, 0.0000,\n",
              "           0.0000, 0.0000, 0.0000, 0.0000, 0.0000, 0.0000, 0.0000, 0.0000,\n",
              "           0.1098, 0.6235, 0.9529, 0.1961, 0.0000, 0.0000, 0.0000, 0.0000,\n",
              "           0.0000, 0.0000, 0.0000, 0.0000],\n",
              "          [0.0000, 0.0000, 0.0000, 0.0000, 0.0000, 0.0000, 0.0000, 0.0000,\n",
              "           0.0000, 0.0000, 0.0000, 0.0000, 0.0000, 0.0000, 0.0000, 0.0000,\n",
              "           0.0000, 0.0000, 0.2941, 0.9608, 0.3098, 0.0000, 0.0000, 0.0000,\n",
              "           0.0000, 0.0000, 0.0000, 0.0000],\n",
              "          [0.0000, 0.0000, 0.0000, 0.0000, 0.0000, 0.0000, 0.0000, 0.0000,\n",
              "           0.0000, 0.0000, 0.0000, 0.0000, 0.0000, 0.0000, 0.0000, 0.0000,\n",
              "           0.0000, 0.0000, 0.0000, 0.3176, 0.9608, 0.1412, 0.0000, 0.0000,\n",
              "           0.0000, 0.0000, 0.0000, 0.0000],\n",
              "          [0.0000, 0.0000, 0.0000, 0.0000, 0.0000, 0.0000, 0.0000, 0.0000,\n",
              "           0.0000, 0.0000, 0.0000, 0.0000, 0.0000, 0.0000, 0.0000, 0.0000,\n",
              "           0.0000, 0.0000, 0.0000, 0.5294, 0.9922, 0.1843, 0.0000, 0.0000,\n",
              "           0.0000, 0.0000, 0.0000, 0.0000],\n",
              "          [0.0000, 0.0000, 0.0000, 0.0000, 0.0000, 0.0000, 0.0000, 0.0000,\n",
              "           0.0000, 0.0000, 0.0000, 0.0000, 0.0000, 0.0000, 0.0000, 0.0000,\n",
              "           0.0000, 0.0000, 0.2549, 0.9961, 0.9608, 0.1412, 0.0000, 0.0000,\n",
              "           0.0000, 0.0000, 0.0000, 0.0000],\n",
              "          [0.0000, 0.0000, 0.0000, 0.0000, 0.0000, 0.0000, 0.0000, 0.0000,\n",
              "           0.0000, 0.0000, 0.0000, 0.0000, 0.0000, 0.0000, 0.0000, 0.0000,\n",
              "           0.0000, 0.4314, 0.9686, 0.9961, 0.4824, 0.0000, 0.0000, 0.0000,\n",
              "           0.0000, 0.0000, 0.0000, 0.0000],\n",
              "          [0.0000, 0.0000, 0.0000, 0.0000, 0.0000, 0.0000, 0.0000, 0.0000,\n",
              "           0.0000, 0.0000, 0.0000, 0.0000, 0.0000, 0.0000, 0.0000, 0.0667,\n",
              "           0.5882, 0.9961, 0.9961, 0.7020, 0.0000, 0.0000, 0.0000, 0.0000,\n",
              "           0.0000, 0.0000, 0.0000, 0.0000],\n",
              "          [0.0000, 0.0000, 0.0000, 0.0000, 0.0000, 0.0000, 0.0000, 0.0000,\n",
              "           0.0000, 0.0000, 0.0000, 0.0000, 0.0000, 0.1176, 0.4392, 0.7765,\n",
              "           0.9922, 0.9922, 0.7765, 0.1765, 0.0000, 0.0000, 0.0000, 0.0000,\n",
              "           0.0000, 0.0000, 0.0000, 0.0000],\n",
              "          [0.0000, 0.0000, 0.0000, 0.0000, 0.0000, 0.0000, 0.0000, 0.0000,\n",
              "           0.0000, 0.0706, 0.1882, 0.2471, 0.5765, 0.9804, 0.9961, 0.9922,\n",
              "           0.8392, 0.3216, 0.0118, 0.0000, 0.0000, 0.0000, 0.0000, 0.0000,\n",
              "           0.0000, 0.0000, 0.0000, 0.0000],\n",
              "          [0.0000, 0.0000, 0.0000, 0.0000, 0.0000, 0.0000, 0.2824, 0.7333,\n",
              "           0.8706, 0.9176, 0.9922, 0.9922, 0.9922, 0.9922, 0.9020, 0.7020,\n",
              "           0.1216, 0.0000, 0.0000, 0.0000, 0.0000, 0.0000, 0.0000, 0.0000,\n",
              "           0.0000, 0.0000, 0.0000, 0.0000],\n",
              "          [0.0000, 0.0000, 0.0000, 0.0000, 0.0000, 0.0000, 0.0902, 0.6431,\n",
              "           0.7765, 0.6824, 0.6784, 0.5451, 0.6392, 0.3725, 0.0392, 0.0000,\n",
              "           0.0000, 0.0000, 0.0000, 0.0000, 0.0000, 0.0000, 0.0000, 0.0000,\n",
              "           0.0000, 0.0000, 0.0000, 0.0000],\n",
              "          [0.0000, 0.0000, 0.0000, 0.0000, 0.0000, 0.0000, 0.0000, 0.0000,\n",
              "           0.0000, 0.0000, 0.0000, 0.0000, 0.0000, 0.0000, 0.0000, 0.0000,\n",
              "           0.0000, 0.0000, 0.0000, 0.0000, 0.0000, 0.0000, 0.0000, 0.0000,\n",
              "           0.0000, 0.0000, 0.0000, 0.0000],\n",
              "          [0.0000, 0.0000, 0.0000, 0.0000, 0.0000, 0.0000, 0.0000, 0.0000,\n",
              "           0.0000, 0.0000, 0.0000, 0.0000, 0.0000, 0.0000, 0.0000, 0.0000,\n",
              "           0.0000, 0.0000, 0.0000, 0.0000, 0.0000, 0.0000, 0.0000, 0.0000,\n",
              "           0.0000, 0.0000, 0.0000, 0.0000],\n",
              "          [0.0000, 0.0000, 0.0000, 0.0000, 0.0000, 0.0000, 0.0000, 0.0000,\n",
              "           0.0000, 0.0000, 0.0000, 0.0000, 0.0000, 0.0000, 0.0000, 0.0000,\n",
              "           0.0000, 0.0000, 0.0000, 0.0000, 0.0000, 0.0000, 0.0000, 0.0000,\n",
              "           0.0000, 0.0000, 0.0000, 0.0000]]]),\n",
              " 3)"
            ]
          },
          "metadata": {},
          "execution_count": 90
        }
      ]
    },
    {
      "cell_type": "code",
      "source": [
        "test_data[4128][0].reshape(28,28)"
      ],
      "metadata": {
        "colab": {
          "base_uri": "https://localhost:8080/"
        },
        "id": "x1iTdKPgHn-A",
        "outputId": "1c8ac17f-fea1-4e56-8b34-cae9d0ce8fe5"
      },
      "execution_count": 91,
      "outputs": [
        {
          "output_type": "execute_result",
          "data": {
            "text/plain": [
              "tensor([[0.0000, 0.0000, 0.0000, 0.0000, 0.0000, 0.0000, 0.0000, 0.0000, 0.0000,\n",
              "         0.0000, 0.0000, 0.0000, 0.0000, 0.0000, 0.0000, 0.0000, 0.0000, 0.0000,\n",
              "         0.0000, 0.0000, 0.0000, 0.0000, 0.0000, 0.0000, 0.0000, 0.0000, 0.0000,\n",
              "         0.0000],\n",
              "        [0.0000, 0.0000, 0.0000, 0.0000, 0.0000, 0.0000, 0.0000, 0.0000, 0.0000,\n",
              "         0.0000, 0.0000, 0.0000, 0.0000, 0.0000, 0.0000, 0.0000, 0.0000, 0.0000,\n",
              "         0.0000, 0.0000, 0.0000, 0.0000, 0.0000, 0.0000, 0.0000, 0.0000, 0.0000,\n",
              "         0.0000],\n",
              "        [0.0000, 0.0000, 0.0000, 0.0000, 0.0000, 0.0000, 0.0000, 0.0000, 0.0000,\n",
              "         0.0000, 0.0000, 0.0000, 0.0000, 0.0000, 0.0000, 0.0000, 0.0000, 0.0000,\n",
              "         0.0000, 0.0000, 0.0000, 0.0000, 0.0000, 0.0000, 0.0000, 0.0000, 0.0000,\n",
              "         0.0000],\n",
              "        [0.0000, 0.0000, 0.0000, 0.0000, 0.0000, 0.0000, 0.0000, 0.0000, 0.0000,\n",
              "         0.0000, 0.0000, 0.0000, 0.0000, 0.0000, 0.0000, 0.0000, 0.0000, 0.0000,\n",
              "         0.0000, 0.0000, 0.0000, 0.0000, 0.0000, 0.0000, 0.0000, 0.0000, 0.0000,\n",
              "         0.0000],\n",
              "        [0.0000, 0.0000, 0.0000, 0.0000, 0.0000, 0.0000, 0.0000, 0.0000, 0.0000,\n",
              "         0.0000, 0.0000, 0.0000, 0.0000, 0.0000, 0.0000, 0.0000, 0.0000, 0.0000,\n",
              "         0.0000, 0.0000, 0.0000, 0.0000, 0.0000, 0.0000, 0.0000, 0.0000, 0.0000,\n",
              "         0.0000],\n",
              "        [0.0000, 0.0000, 0.0000, 0.0000, 0.0000, 0.0000, 0.0000, 0.0000, 0.0000,\n",
              "         0.0000, 0.0000, 0.0118, 0.3176, 0.6824, 1.0000, 0.9961, 0.9961, 0.7216,\n",
              "         0.1608, 0.0000, 0.0000, 0.0000, 0.0000, 0.0000, 0.0000, 0.0000, 0.0000,\n",
              "         0.0000],\n",
              "        [0.0000, 0.0000, 0.0000, 0.0000, 0.0000, 0.0000, 0.0000, 0.0000, 0.0000,\n",
              "         0.0000, 0.2314, 0.7922, 0.9922, 0.9137, 0.8706, 0.7294, 0.8118, 0.9922,\n",
              "         0.3725, 0.0000, 0.0000, 0.0000, 0.0000, 0.0000, 0.0000, 0.0000, 0.0000,\n",
              "         0.0000],\n",
              "        [0.0000, 0.0000, 0.0000, 0.0000, 0.0000, 0.0000, 0.0000, 0.0000, 0.0000,\n",
              "         0.0902, 0.8118, 0.9569, 0.5490, 0.0706, 0.0000, 0.1216, 0.9020, 0.9922,\n",
              "         0.2157, 0.0000, 0.0000, 0.0000, 0.0000, 0.0000, 0.0000, 0.0000, 0.0000,\n",
              "         0.0000],\n",
              "        [0.0000, 0.0000, 0.0000, 0.0000, 0.0000, 0.0000, 0.0000, 0.0000, 0.0000,\n",
              "         0.8196, 0.9922, 0.4588, 0.0000, 0.0000, 0.0157, 0.6706, 0.9922, 0.5961,\n",
              "         0.0078, 0.0000, 0.0000, 0.0000, 0.0000, 0.0000, 0.0000, 0.0000, 0.0000,\n",
              "         0.0000],\n",
              "        [0.0000, 0.0000, 0.0000, 0.0000, 0.0000, 0.0000, 0.0000, 0.0000, 0.0980,\n",
              "         0.9961, 0.7765, 0.0118, 0.0000, 0.0000, 0.6471, 0.9922, 0.9333, 0.2000,\n",
              "         0.0000, 0.0000, 0.0000, 0.0000, 0.0000, 0.0000, 0.0000, 0.0000, 0.0000,\n",
              "         0.0000],\n",
              "        [0.0000, 0.0000, 0.0000, 0.0000, 0.0000, 0.0000, 0.0000, 0.0000, 0.8392,\n",
              "         0.9373, 0.0784, 0.0000, 0.0157, 0.6471, 1.0000, 0.9882, 0.3686, 0.0000,\n",
              "         0.0000, 0.0000, 0.0000, 0.0000, 0.0000, 0.0000, 0.0000, 0.0000, 0.0000,\n",
              "         0.0000],\n",
              "        [0.0000, 0.0000, 0.0000, 0.0000, 0.0000, 0.0000, 0.0000, 0.0000, 0.8941,\n",
              "         0.3529, 0.0000, 0.0000, 0.2510, 0.9922, 0.9961, 0.5922, 0.0000, 0.0000,\n",
              "         0.0000, 0.0000, 0.0000, 0.0000, 0.0000, 0.0000, 0.0000, 0.0000, 0.0000,\n",
              "         0.0000],\n",
              "        [0.0000, 0.0000, 0.0000, 0.0000, 0.0000, 0.0000, 0.0000, 0.0000, 0.1176,\n",
              "         0.0000, 0.0000, 0.0000, 0.0471, 0.7294, 0.9961, 0.6784, 0.0941, 0.0000,\n",
              "         0.0000, 0.0000, 0.0000, 0.0000, 0.0000, 0.0000, 0.0000, 0.0000, 0.0000,\n",
              "         0.0000],\n",
              "        [0.0000, 0.0000, 0.0000, 0.0000, 0.0000, 0.0000, 0.0000, 0.0000, 0.0000,\n",
              "         0.0000, 0.0000, 0.0000, 0.0000, 0.0392, 0.2392, 0.6667, 0.8863, 0.4235,\n",
              "         0.0941, 0.0000, 0.0000, 0.0000, 0.0000, 0.0000, 0.0000, 0.0000, 0.0000,\n",
              "         0.0000],\n",
              "        [0.0000, 0.0000, 0.0000, 0.0000, 0.0000, 0.0000, 0.0000, 0.0000, 0.0000,\n",
              "         0.0000, 0.0000, 0.0000, 0.0000, 0.0000, 0.0000, 0.0000, 0.1098, 0.6235,\n",
              "         0.9529, 0.1961, 0.0000, 0.0000, 0.0000, 0.0000, 0.0000, 0.0000, 0.0000,\n",
              "         0.0000],\n",
              "        [0.0000, 0.0000, 0.0000, 0.0000, 0.0000, 0.0000, 0.0000, 0.0000, 0.0000,\n",
              "         0.0000, 0.0000, 0.0000, 0.0000, 0.0000, 0.0000, 0.0000, 0.0000, 0.0000,\n",
              "         0.2941, 0.9608, 0.3098, 0.0000, 0.0000, 0.0000, 0.0000, 0.0000, 0.0000,\n",
              "         0.0000],\n",
              "        [0.0000, 0.0000, 0.0000, 0.0000, 0.0000, 0.0000, 0.0000, 0.0000, 0.0000,\n",
              "         0.0000, 0.0000, 0.0000, 0.0000, 0.0000, 0.0000, 0.0000, 0.0000, 0.0000,\n",
              "         0.0000, 0.3176, 0.9608, 0.1412, 0.0000, 0.0000, 0.0000, 0.0000, 0.0000,\n",
              "         0.0000],\n",
              "        [0.0000, 0.0000, 0.0000, 0.0000, 0.0000, 0.0000, 0.0000, 0.0000, 0.0000,\n",
              "         0.0000, 0.0000, 0.0000, 0.0000, 0.0000, 0.0000, 0.0000, 0.0000, 0.0000,\n",
              "         0.0000, 0.5294, 0.9922, 0.1843, 0.0000, 0.0000, 0.0000, 0.0000, 0.0000,\n",
              "         0.0000],\n",
              "        [0.0000, 0.0000, 0.0000, 0.0000, 0.0000, 0.0000, 0.0000, 0.0000, 0.0000,\n",
              "         0.0000, 0.0000, 0.0000, 0.0000, 0.0000, 0.0000, 0.0000, 0.0000, 0.0000,\n",
              "         0.2549, 0.9961, 0.9608, 0.1412, 0.0000, 0.0000, 0.0000, 0.0000, 0.0000,\n",
              "         0.0000],\n",
              "        [0.0000, 0.0000, 0.0000, 0.0000, 0.0000, 0.0000, 0.0000, 0.0000, 0.0000,\n",
              "         0.0000, 0.0000, 0.0000, 0.0000, 0.0000, 0.0000, 0.0000, 0.0000, 0.4314,\n",
              "         0.9686, 0.9961, 0.4824, 0.0000, 0.0000, 0.0000, 0.0000, 0.0000, 0.0000,\n",
              "         0.0000],\n",
              "        [0.0000, 0.0000, 0.0000, 0.0000, 0.0000, 0.0000, 0.0000, 0.0000, 0.0000,\n",
              "         0.0000, 0.0000, 0.0000, 0.0000, 0.0000, 0.0000, 0.0667, 0.5882, 0.9961,\n",
              "         0.9961, 0.7020, 0.0000, 0.0000, 0.0000, 0.0000, 0.0000, 0.0000, 0.0000,\n",
              "         0.0000],\n",
              "        [0.0000, 0.0000, 0.0000, 0.0000, 0.0000, 0.0000, 0.0000, 0.0000, 0.0000,\n",
              "         0.0000, 0.0000, 0.0000, 0.0000, 0.1176, 0.4392, 0.7765, 0.9922, 0.9922,\n",
              "         0.7765, 0.1765, 0.0000, 0.0000, 0.0000, 0.0000, 0.0000, 0.0000, 0.0000,\n",
              "         0.0000],\n",
              "        [0.0000, 0.0000, 0.0000, 0.0000, 0.0000, 0.0000, 0.0000, 0.0000, 0.0000,\n",
              "         0.0706, 0.1882, 0.2471, 0.5765, 0.9804, 0.9961, 0.9922, 0.8392, 0.3216,\n",
              "         0.0118, 0.0000, 0.0000, 0.0000, 0.0000, 0.0000, 0.0000, 0.0000, 0.0000,\n",
              "         0.0000],\n",
              "        [0.0000, 0.0000, 0.0000, 0.0000, 0.0000, 0.0000, 0.2824, 0.7333, 0.8706,\n",
              "         0.9176, 0.9922, 0.9922, 0.9922, 0.9922, 0.9020, 0.7020, 0.1216, 0.0000,\n",
              "         0.0000, 0.0000, 0.0000, 0.0000, 0.0000, 0.0000, 0.0000, 0.0000, 0.0000,\n",
              "         0.0000],\n",
              "        [0.0000, 0.0000, 0.0000, 0.0000, 0.0000, 0.0000, 0.0902, 0.6431, 0.7765,\n",
              "         0.6824, 0.6784, 0.5451, 0.6392, 0.3725, 0.0392, 0.0000, 0.0000, 0.0000,\n",
              "         0.0000, 0.0000, 0.0000, 0.0000, 0.0000, 0.0000, 0.0000, 0.0000, 0.0000,\n",
              "         0.0000],\n",
              "        [0.0000, 0.0000, 0.0000, 0.0000, 0.0000, 0.0000, 0.0000, 0.0000, 0.0000,\n",
              "         0.0000, 0.0000, 0.0000, 0.0000, 0.0000, 0.0000, 0.0000, 0.0000, 0.0000,\n",
              "         0.0000, 0.0000, 0.0000, 0.0000, 0.0000, 0.0000, 0.0000, 0.0000, 0.0000,\n",
              "         0.0000],\n",
              "        [0.0000, 0.0000, 0.0000, 0.0000, 0.0000, 0.0000, 0.0000, 0.0000, 0.0000,\n",
              "         0.0000, 0.0000, 0.0000, 0.0000, 0.0000, 0.0000, 0.0000, 0.0000, 0.0000,\n",
              "         0.0000, 0.0000, 0.0000, 0.0000, 0.0000, 0.0000, 0.0000, 0.0000, 0.0000,\n",
              "         0.0000],\n",
              "        [0.0000, 0.0000, 0.0000, 0.0000, 0.0000, 0.0000, 0.0000, 0.0000, 0.0000,\n",
              "         0.0000, 0.0000, 0.0000, 0.0000, 0.0000, 0.0000, 0.0000, 0.0000, 0.0000,\n",
              "         0.0000, 0.0000, 0.0000, 0.0000, 0.0000, 0.0000, 0.0000, 0.0000, 0.0000,\n",
              "         0.0000]])"
            ]
          },
          "metadata": {},
          "execution_count": 91
        }
      ]
    },
    {
      "cell_type": "code",
      "source": [
        "# The image test_data[4128]\n",
        "plt.imshow(test_data[4128][0].reshape(28,28))"
      ],
      "metadata": {
        "colab": {
          "base_uri": "https://localhost:8080/",
          "height": 447
        },
        "id": "svMVoklfH3Lb",
        "outputId": "a5bef22d-1ec3-4f78-d4b2-35b5ae55eeaa"
      },
      "execution_count": 94,
      "outputs": [
        {
          "output_type": "execute_result",
          "data": {
            "text/plain": [
              "<matplotlib.image.AxesImage at 0x7d48fc2d76d0>"
            ]
          },
          "metadata": {},
          "execution_count": 94
        },
        {
          "output_type": "display_data",
          "data": {
            "text/plain": [
              "<Figure size 640x480 with 1 Axes>"
            ],
            "image/png": "[encoded data removed]"
          },
          "metadata": {}
        }
      ]
    },
    {
      "cell_type": "code",
      "source": [
        "# Pass the image into the model\n",
        "mode.eval()\n",
        "with torch.no_grad():\n",
        "  new_prediction = model(test_data[4128][0].view(1,1,28,28)) #batch size of 1, 1 color channel, 28x28 image\n",
        ""
      ],
      "metadata": {
        "id": "DAAg0nKKIBJQ"
      },
      "execution_count": null,
      "outputs": []
    },
    {
      "cell_type": "code",
      "source": [
        "new_prediciton"
      ],
      "metadata": {
        "id": "EsNpTkdnOS16"
      },
      "execution_count": null,
      "outputs": []
    },
    {
      "cell_type": "code",
      "source": [
        "new_prediction.argmax()"
      ],
      "metadata": {
        "id": "uUB4QMbzOeMr"
      },
      "execution_count": null,
      "outputs": []
    }
  ]
}